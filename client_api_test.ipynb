{
 "cells": [
  {
   "cell_type": "code",
   "execution_count": 129,
   "id": "initial_id",
   "metadata": {
    "ExecuteTime": {
     "end_time": "2025-07-03T23:08:01.423321Z",
     "start_time": "2025-07-03T23:08:00.708863Z"
    }
   },
   "outputs": [
    {
     "name": "stdout",
     "output_type": "stream",
     "text": [
      "The autoreload extension is already loaded. To reload it, use:\n",
      "  %reload_ext autoreload\n"
     ]
    }
   ],
   "source": [
    "from IPython.display import display, clear_output\n",
    "import matplotlib.pyplot as plt\n",
    "import numpy as np\n",
    "import time\n",
    "from pathlib import Path\n",
    "import json\n",
    "import logging\n",
    "\n",
    "from daq_data.daq_data_resources import unpack_pano_image, format_stream_images_response\n",
    "from daq_data.daq_data_client import DaqDataClient\n",
    "\n",
    "%load_ext autoreload\n",
    "%autoreload 2"
   ]
  },
  {
   "cell_type": "code",
   "execution_count": 130,
   "id": "bad2082b-571d-4315-b653-b6bed10f4feb",
   "metadata": {
    "jupyter": {
     "source_hidden": true
    }
   },
   "outputs": [],
   "source": [
    "import matplotlib.pyplot as plt\n",
    "import numpy as np\n",
    "from matplotlib.ticker import MaxNLocator\n",
    "from mpl_toolkits.axes_grid1 import make_axes_locatable\n",
    "from collections import deque\n",
    "import textwrap\n",
    "\n",
    "class PanoImagePreviewer:\n",
    "    def __init__(\n",
    "            self,\n",
    "            stream_movie_data: bool,\n",
    "            stream_pulse_height_data: bool,\n",
    "            module_id_whitelist: list[int],\n",
    "            logger: logging.Logger,\n",
    "            text_width=25,\n",
    "            font_size=7,\n",
    "            row_height=2.8,\n",
    "            window_size=100,\n",
    "    ) -> None:\n",
    "        self.stream_movie_data = stream_movie_data\n",
    "        self.stream_pulse_height_data = stream_pulse_height_data\n",
    "        self.module_id_whitelist = module_id_whitelist\n",
    "        self.logger = logger\n",
    "\n",
    "        self.seen_modules = set()\n",
    "        self.axes_map = {}\n",
    "        self.cbar_map = {}\n",
    "        self.im_map = {}\n",
    "        self.window_size = window_size\n",
    "        self.max_pix_map = {'PULSE_HEIGHT': deque(maxlen=self.window_size), 'MOVIE': deque(maxlen=self.window_size)}\n",
    "        self.min_pix_map = {'PULSE_HEIGHT': deque(maxlen=self.window_size), 'MOVIE': deque(maxlen=self.window_size)}\n",
    "\n",
    "        self.fig = None\n",
    "        self.text_width = text_width\n",
    "        self.font_size = font_size\n",
    "        self.cmap = 'plasma'\n",
    "        self.row_height = row_height\n",
    "        self.num_rescale = 0\n",
    "\n",
    "    def setup_layout(self, modules):\n",
    "        if self.fig is not None:\n",
    "            plt.close(self.fig)\n",
    "        modules = sorted(modules)\n",
    "        n_modules = len(modules)\n",
    "        self.fig, axs = plt.subplots(n_modules, 2, figsize=(self.row_height * 2.2, self.row_height * n_modules))\n",
    "        if n_modules == 1:\n",
    "            axs = np.array([axs])\n",
    "\n",
    "        self.num_rescale = 0\n",
    "        self.axes_map.clear()\n",
    "        self.cbar_map.clear()\n",
    "        self.im_map.clear()\n",
    "        for row, module_id in enumerate(modules):\n",
    "            self.axes_map[(module_id, 'PULSE_HEIGHT')] = axs[row, 0]\n",
    "            self.axes_map[(module_id, 'MOVIE')] = axs[row, 1]\n",
    "\n",
    "            im_ph = axs[row, 0].imshow(np.zeros((32, 32)), cmap=self.cmap)\n",
    "            self.im_map[(module_id, 'PULSE_HEIGHT')] = im_ph\n",
    "            im_mov = axs[row, 1].imshow(np.zeros((32, 32)), cmap=self.cmap)\n",
    "            self.im_map[(module_id, 'MOVIE')] = im_mov\n",
    "\n",
    "            divider_ph = make_axes_locatable(axs[row, 0])\n",
    "            cax_ph = divider_ph.append_axes('right', size='5%', pad=0.05)\n",
    "            cbar_ph = self.fig.colorbar(im_ph, cax=cax_ph)\n",
    "            self.cbar_map[(module_id, 'PULSE_HEIGHT')] = cbar_ph\n",
    "\n",
    "            divider_mov = make_axes_locatable(axs[row, 1])\n",
    "            cax_mov = divider_mov.append_axes('right', size='5%', pad=0.05)\n",
    "            cbar_mov = self.fig.colorbar(im_mov, cax=cax_mov)\n",
    "            self.cbar_map[(module_id, 'MOVIE')] = cbar_mov\n",
    "        self.fig.tight_layout()\n",
    "\n",
    "    def update(self, stream_images_response):\n",
    "        module_id, pano_type, header, img = unpack_pano_image(stream_images_response.pano_image)\n",
    "        pano_image = stream_images_response.pano_image\n",
    "        frame_number = pano_image.frame_number\n",
    "        file = pano_image.file\n",
    "\n",
    "        # If this module is new, update layout and clear output before redrawing\n",
    "        if module_id not in self.seen_modules:\n",
    "            self.seen_modules.add(module_id)\n",
    "            self.setup_layout(self.seen_modules)\n",
    "\n",
    "        self.max_pix_map[pano_type].append(np.max(img))\n",
    "        self.min_pix_map[pano_type].append(np.min(img))\n",
    "        vmax = np.quantile(self.max_pix_map[pano_type], 0.95)\n",
    "        vmin = np.quantile(self.min_pix_map[pano_type], 0.05)\n",
    "        im = self.im_map[(module_id, pano_type)]\n",
    "        im.set_data(img)\n",
    "        im.set_clim(vmin, vmax)\n",
    "\n",
    "        cbar = self.cbar_map.get((module_id, pano_type))\n",
    "        cbar.ax.tick_params(labelsize=8)\n",
    "        cbar.locator = MaxNLocator(nbins=6)\n",
    "        cbar.update_ticks()\n",
    "        ax = self.axes_map.get((module_id, pano_type))\n",
    "        if ax is None:\n",
    "            return\n",
    "\n",
    "        ax_title = (f\"{pano_type}\"\n",
    "                    + (\"\\n\" if 'quabo_num' not in header else f\": Q{int(header['quabo_num'])}\\n\")\n",
    "                    + f\"unix_t = {header['pandas_unix_timestamp'].time()}\\n\"\n",
    "                    + f\"frame_no = {frame_number}\\n\")\n",
    "        ax_title += textwrap.fill(f\"file = {file}\", width=self.text_width)\n",
    "\n",
    "        ax.set_title(ax_title, fontsize=self.font_size)\n",
    "        ax.tick_params(axis='both', which='major', labelsize=8, length=4, width=1)\n",
    "\n",
    "        start = pff.parse_name(file)['start'] if 'pff' in globals() else ''\n",
    "        if len(self.module_id_whitelist) > 0:\n",
    "            plt_title = f\"Obs data from {start}, module_ids={set(self.module_id_whitelist)} [filtered]\"\n",
    "        else:\n",
    "            plt_title = f\"Obs data from {start}, module_ids={self.seen_modules} [all]\"\n",
    "        if self.num_rescale < len(self.seen_modules) * 3:\n",
    "            self.fig.tight_layout()\n",
    "            self.num_rescale += 1\n",
    "        self.fig.suptitle(plt_title)\n",
    "\n",
    "        clear_output(wait=True)\n",
    "        display(self.fig)\n"
   ]
  },
  {
   "cell_type": "code",
   "execution_count": 131,
   "id": "1382ddbf-0187-4c6b-ba68-571c68e3647f",
   "metadata": {},
   "outputs": [],
   "source": [
    "# load config and paths\n",
    "cfg_dir = Path('daq_data/config')\n",
    "daq_config_file = 'daq_config_grpc_simulate.json'\n",
    "hp_io_config_simulate_file = 'hp_io_config_simulate.json'\n",
    "with open(cfg_dir / hp_io_config_simulate_file, 'r') as f:\n",
    "    hp_io_cfg = json.load(f)"
   ]
  },
  {
   "cell_type": "code",
   "execution_count": 140,
   "id": "a9178075-1bb9-4ca2-b2b3-6236362e807b",
   "metadata": {},
   "outputs": [
    {
     "name": "stdout",
     "output_type": "stream",
     "text": [
      "localhost\n"
     ]
    },
    {
     "data": {
      "text/html": [
       "<pre style=\"white-space:pre;overflow-x:auto;line-height:normal;font-family:Menlo,'DejaVu Sans Mono',consolas,'Courier New',monospace\">found services: <span style=\"font-weight: bold\">[</span><span style=\"color: #008000; text-decoration-color: #008000\">'daqdata.DaqData'</span>, <span style=\"color: #008000; text-decoration-color: #008000\">'grpc.reflection.v1alpha.ServerReflection'</span><span style=\"font-weight: bold\">]</span>\n",
       "</pre>\n"
      ],
      "text/plain": [
       "found services: \u001b[1m[\u001b[0m\u001b[32m'daqdata.DaqData'\u001b[0m, \u001b[32m'grpc.reflection.v1alpha.ServerReflection'\u001b[0m\u001b[1m]\u001b[0m\n"
      ]
     },
     "metadata": {},
     "output_type": "display_data"
    },
    {
     "data": {
      "text/html": [
       "<pre style=\"white-space:pre;overflow-x:auto;line-height:normal;font-family:Menlo,'DejaVu Sans Mono',consolas,'Courier New',monospace\">found <span style=\"color: #808000; text-decoration-color: #808000\">DaqData</span> service with name: <span style=\"color: #808000; text-decoration-color: #808000\">daqdata.DaqData</span>\n",
       "</pre>\n"
      ],
      "text/plain": [
       "found \u001b[33mDaqData\u001b[0m service with name: \u001b[33mdaqdata.DaqData\u001b[0m\n"
      ]
     },
     "metadata": {},
     "output_type": "display_data"
    },
    {
     "data": {
      "text/html": [
       "<pre style=\"white-space:pre;overflow-x:auto;line-height:normal;font-family:Menlo,'DejaVu Sans Mono',consolas,'Courier New',monospace\">        found: rpc <span style=\"color: #800080; text-decoration-color: #800080; font-weight: bold\">StreamImages</span><span style=\"font-weight: bold\">(</span>StreamImagesRequest<span style=\"font-weight: bold\">)</span> returns <span style=\"font-weight: bold\">(</span><span style=\"color: #800080; text-decoration-color: #800080\">stream</span> StreamImagesResponse<span style=\"font-weight: bold\">)</span>\n",
       "</pre>\n"
      ],
      "text/plain": [
       "        found: rpc \u001b[1;35mStreamImages\u001b[0m\u001b[1m(\u001b[0mStreamImagesRequest\u001b[1m)\u001b[0m returns \u001b[1m(\u001b[0m\u001b[35mstream\u001b[0m StreamImagesResponse\u001b[1m)\u001b[0m\n"
      ]
     },
     "metadata": {},
     "output_type": "display_data"
    },
    {
     "data": {
      "text/html": [
       "<pre style=\"white-space:pre;overflow-x:auto;line-height:normal;font-family:Menlo,'DejaVu Sans Mono',consolas,'Courier New',monospace\">        found: rpc <span style=\"color: #800080; text-decoration-color: #800080; font-weight: bold\">InitHpIo</span><span style=\"font-weight: bold\">(</span>InitHpIoRequest<span style=\"font-weight: bold\">)</span> returns <span style=\"font-weight: bold\">(</span>InitHpIoResponse<span style=\"font-weight: bold\">)</span>\n",
       "</pre>\n"
      ],
      "text/plain": [
       "        found: rpc \u001b[1;35mInitHpIo\u001b[0m\u001b[1m(\u001b[0mInitHpIoRequest\u001b[1m)\u001b[0m returns \u001b[1m(\u001b[0mInitHpIoResponse\u001b[1m)\u001b[0m\n"
      ]
     },
     "metadata": {},
     "output_type": "display_data"
    },
    {
     "name": "stdout",
     "output_type": "stream",
     "text": [
      "success: true\n",
      "\n"
     ]
    },
    {
     "data": {
      "text/html": [
       "<pre style=\"white-space:pre;overflow-x:auto;line-height:normal;font-family:Menlo,'DejaVu Sans Mono',consolas,'Courier New',monospace\"><span style=\"color: #7fbfbf; text-decoration-color: #7fbfbf\">01:49:17 </span><span style=\"color: #000080; text-decoration-color: #000080\">INFO    </span> <span style=\"font-weight: bold\">[</span><span style=\"color: #808000; text-decoration-color: #808000\">tid</span>=<span style=\"color: #008080; text-decoration-color: #008080; font-weight: bold\">8757206784</span><span style=\"font-weight: bold\">]</span> <span style=\"font-weight: bold\">[</span><span style=\"color: #800080; text-decoration-color: #800080; font-weight: bold\">__exit__</span><span style=\"font-weight: bold\">()]</span> closed channel to localhost:<span style=\"color: #008080; text-decoration-color: #008080; font-weight: bold\">50051</span>             <a href=\"file:///Users/nico/panoseti/panoseti_grpc/daq_data/daq_data_client.py\" target=\"_blank\"><span style=\"color: #7f7f7f; text-decoration-color: #7f7f7f\">daq_data_client.py</span></a><span style=\"color: #7f7f7f; text-decoration-color: #7f7f7f\">:</span><a href=\"file:///Users/nico/panoseti/panoseti_grpc/daq_data/daq_data_client.py#84\" target=\"_blank\"><span style=\"color: #7f7f7f; text-decoration-color: #7f7f7f\">84</span></a>\n",
       "</pre>\n"
      ],
      "text/plain": [
       "\u001b[2;36m01:49:17\u001b[0m\u001b[2;36m \u001b[0m\u001b[34mINFO    \u001b[0m \u001b[1m[\u001b[0m\u001b[33mtid\u001b[0m=\u001b[1;36m8757206784\u001b[0m\u001b[1m]\u001b[0m \u001b[1m[\u001b[0m\u001b[1;35m__exit__\u001b[0m\u001b[1m(\u001b[0m\u001b[1m)\u001b[0m\u001b[1m]\u001b[0m closed channel to localhost:\u001b[1;36m50051\u001b[0m             \u001b]8;id=898668;file:///Users/nico/panoseti/panoseti_grpc/daq_data/daq_data_client.py\u001b\\\u001b[2mdaq_data_client.py\u001b[0m\u001b]8;;\u001b\\\u001b[2m:\u001b[0m\u001b]8;id=691692;file:///Users/nico/panoseti/panoseti_grpc/daq_data/daq_data_client.py#84\u001b\\\u001b[2m84\u001b[0m\u001b]8;;\u001b\\\n"
      ]
     },
     "metadata": {},
     "output_type": "display_data"
    }
   ],
   "source": [
    "# initialize the server\n",
    "with DaqDataClient(cfg_dir / daq_config_file) as ddc:\n",
    "    valid_daq_hosts = ddc.get_valid_daq_hosts()\n",
    "    for host in valid_daq_hosts:\n",
    "        print(host)\n",
    "        ddc.reflect_services(host)\n",
    "        # initialize the server with simulation data\n",
    "        init_hp_io_response = ddc.init_hp_io(host, hp_io_cfg)\n",
    "        if not init_hp_io_response.success:\n",
    "            print('failed to initialize')\n",
    "            break\n",
    "        print(init_hp_io_response)"
   ]
  },
  {
   "cell_type": "code",
   "execution_count": null,
   "id": "8fc4bea9-2e5f-4189-9804-45f6ac56691c",
   "metadata": {},
   "outputs": [
    {
     "data": {
      "image/png": "[encoded data removed]",
      "text/plain": [
       "<Figure size 660x300 with 4 Axes>"
      ]
     },
     "metadata": {},
     "output_type": "display_data"
    }
   ],
   "source": [
    "# stream images\n",
    "with DaqDataClient(cfg_dir / daq_config_file) as ddc:\n",
    "    valid_daq_hosts = ddc.get_valid_daq_hosts()\n",
    "    for host in valid_daq_hosts:\n",
    "        print(host)\n",
    "        # make RPC\n",
    "        stream_movie_data = True\n",
    "        stream_pulse_height_data = True\n",
    "        stream_images_responses = ddc.stream_images(\n",
    "            host,\n",
    "            stream_movie_data,\n",
    "            stream_pulse_height_data,\n",
    "            update_interval_seconds=0.5,\n",
    "            wait_for_ready=True\n",
    "        )\n",
    "        \n",
    "        # create visualizer\n",
    "        previewer = PanoImagePreviewer(\n",
    "            stream_movie_data, stream_pulse_height_data, [], ddc.logger, row_height=3, font_size=6, text_width=30, window_size=1000\n",
    "        )\n",
    "    \n",
    "        # process updates in real-time\n",
    "        for stream_images_response in stream_images_responses:\n",
    "            previewer.update(stream_images_response)"
   ]
  },
  {
   "cell_type": "code",
   "execution_count": null,
   "id": "e44353f2-37f6-4619-975a-f5e78ba2b3f9",
   "metadata": {},
   "outputs": [],
   "source": []
  }
 ],
 "metadata": {
  "kernelspec": {
   "display_name": "Python 3 (ipykernel)",
   "language": "python",
   "name": "python3"
  },
  "language_info": {
   "codemirror_mode": {
    "name": "ipython",
    "version": 3
   },
   "file_extension": ".py",
   "mimetype": "text/x-python",
   "name": "python",
   "nbconvert_exporter": "python",
   "pygments_lexer": "ipython3",
   "version": "3.9.13"
  }
 },
 "nbformat": 4,
 "nbformat_minor": 5
}
