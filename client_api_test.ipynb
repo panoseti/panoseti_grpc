{
 "cells": [
  {
   "cell_type": "code",
   "execution_count": 1,
   "id": "initial_id",
   "metadata": {
    "ExecuteTime": {
     "end_time": "2025-07-03T23:08:01.423321Z",
     "start_time": "2025-07-03T23:08:00.708863Z"
    }
   },
   "outputs": [],
   "source": [
    "from IPython.display import display, clear_output\n",
    "import matplotlib.pyplot as plt\n",
    "import numpy as np\n",
    "import time\n",
    "from pathlib import Path\n",
    "import json\n",
    "import logging\n",
    "from rich import print\n",
    "\n",
    "from daq_data.daq_data_resources import format_stream_images_response\n",
    "from daq_data.daq_data_client import DaqDataClient\n",
    "\n",
    "%load_ext autoreload\n",
    "%autoreload 2"
   ]
  },
  {
   "cell_type": "code",
   "execution_count": 2,
   "id": "bad2082b-571d-4315-b653-b6bed10f4feb",
   "metadata": {},
   "outputs": [],
   "source": [
    "import matplotlib.pyplot as plt\n",
    "import numpy as np\n",
    "from matplotlib.ticker import MaxNLocator\n",
    "from mpl_toolkits.axes_grid1 import make_axes_locatable\n",
    "from collections import deque\n",
    "import textwrap\n",
    "\n",
    "class PanoImagePreviewer:\n",
    "    def __init__(\n",
    "            self,\n",
    "            stream_movie_data: bool,\n",
    "            stream_pulse_height_data: bool,\n",
    "            module_id_whitelist: list[int],\n",
    "            logger: logging.Logger,\n",
    "            text_width=25,\n",
    "            font_size=7,\n",
    "            row_height=2.8,\n",
    "            window_size=100,\n",
    "    ) -> None:\n",
    "        self.stream_movie_data = stream_movie_data\n",
    "        self.stream_pulse_height_data = stream_pulse_height_data\n",
    "        self.module_id_whitelist = module_id_whitelist\n",
    "        self.logger = logger\n",
    "\n",
    "        self.seen_modules = set()\n",
    "        self.axes_map = {}\n",
    "        self.cbar_map = {}\n",
    "        self.im_map = {}\n",
    "        self.window_size = window_size\n",
    "        self.max_pix_map = {'PULSE_HEIGHT': deque(maxlen=self.window_size), 'MOVIE': deque(maxlen=self.window_size)}\n",
    "        self.min_pix_map = {'PULSE_HEIGHT': deque(maxlen=self.window_size), 'MOVIE': deque(maxlen=self.window_size)}\n",
    "\n",
    "        self.fig = None\n",
    "        self.text_width = text_width\n",
    "        self.font_size = font_size\n",
    "        self.cmap = 'plasma'\n",
    "        self.row_height = row_height\n",
    "        self.num_rescale = 0\n",
    "\n",
    "    def setup_layout(self, modules):\n",
    "        if self.fig is not None:\n",
    "            plt.close(self.fig)\n",
    "        modules = sorted(modules)\n",
    "        n_modules = len(modules)\n",
    "        self.fig, axs = plt.subplots(n_modules, 2, figsize=(self.row_height * 2.2, self.row_height * n_modules))\n",
    "        if n_modules == 1:\n",
    "            axs = np.array([axs])\n",
    "\n",
    "        self.num_rescale = 0\n",
    "        self.axes_map.clear()\n",
    "        self.cbar_map.clear()\n",
    "        self.im_map.clear()\n",
    "        for row, module_id in enumerate(modules):\n",
    "            self.axes_map[(module_id, 'PULSE_HEIGHT')] = axs[row, 0]\n",
    "            self.axes_map[(module_id, 'MOVIE')] = axs[row, 1]\n",
    "\n",
    "            im_ph = axs[row, 0].imshow(np.zeros((32, 32)), cmap=self.cmap)\n",
    "            self.im_map[(module_id, 'PULSE_HEIGHT')] = im_ph\n",
    "            im_mov = axs[row, 1].imshow(np.zeros((32, 32)), cmap=self.cmap)\n",
    "            self.im_map[(module_id, 'MOVIE')] = im_mov\n",
    "\n",
    "            divider_ph = make_axes_locatable(axs[row, 0])\n",
    "            cax_ph = divider_ph.append_axes('right', size='5%', pad=0.05)\n",
    "            cbar_ph = self.fig.colorbar(im_ph, cax=cax_ph)\n",
    "            self.cbar_map[(module_id, 'PULSE_HEIGHT')] = cbar_ph\n",
    "\n",
    "            divider_mov = make_axes_locatable(axs[row, 1])\n",
    "            cax_mov = divider_mov.append_axes('right', size='5%', pad=0.05)\n",
    "            cbar_mov = self.fig.colorbar(im_mov, cax=cax_mov)\n",
    "            self.cbar_map[(module_id, 'MOVIE')] = cbar_mov\n",
    "        self.fig.tight_layout()\n",
    "\n",
    "    def update(self, parsed_pano_image):\n",
    "        module_id = parsed_pano_image['module_id']\n",
    "        pano_type = parsed_pano_image['type']\n",
    "        header = parsed_pano_image['header']\n",
    "        img = parsed_pano_image['image_array']\n",
    "        frame_number = parsed_pano_image['frame_number']\n",
    "        file = parsed_pano_image['file']\n",
    "\n",
    "        # If this module is new, update layout and clear output before redrawing\n",
    "        if module_id not in self.seen_modules:\n",
    "            self.seen_modules.add(module_id)\n",
    "            self.setup_layout(self.seen_modules)\n",
    "\n",
    "        self.max_pix_map[pano_type].append(np.max(img))\n",
    "        self.min_pix_map[pano_type].append(np.min(img))\n",
    "        vmax = np.quantile(self.max_pix_map[pano_type], 0.95)\n",
    "        vmin = np.quantile(self.min_pix_map[pano_type], 0.05)\n",
    "        im = self.im_map[(module_id, pano_type)]\n",
    "        im.set_data(img)\n",
    "        im.set_clim(vmin, vmax)\n",
    "\n",
    "        cbar = self.cbar_map.get((module_id, pano_type))\n",
    "        cbar.ax.tick_params(labelsize=8)\n",
    "        cbar.locator = MaxNLocator(nbins=6)\n",
    "        cbar.update_ticks()\n",
    "        cbar.ax.set_ylabel('ADC', rotation=270, labelpad=10, fontsize=8)\n",
    "        cbar.ax.yaxis.set_label_position(\"right\")\n",
    "\n",
    "        ax = self.axes_map.get((module_id, pano_type))\n",
    "        if ax is None:\n",
    "            return\n",
    "\n",
    "        ax_title = (f\"{pano_type}\"\n",
    "                    + (\"\\n\" if 'quabo_num' not in header else f\": Q{int(header['quabo_num'])}\\n\")\n",
    "                    + f\"unix_t = {header['pandas_unix_timestamp'].time()}\\n\"\n",
    "                    + f\"frame_no = {frame_number}\\n\")\n",
    "        ax_title += textwrap.fill(f\"file = {file}\", width=self.text_width)\n",
    "\n",
    "        ax.set_title(ax_title, fontsize=self.font_size)\n",
    "        ax.tick_params(axis='both', which='major', labelsize=8, length=4, width=1)\n",
    "\n",
    "        start = pff.parse_name(file)['start'] if 'pff' in globals() else ''\n",
    "        if len(self.module_id_whitelist) > 0:\n",
    "            plt_title = f\"Obs data from {start}, module_ids={set(self.module_id_whitelist)} [filtered]\"\n",
    "        else:\n",
    "            plt_title = f\"Obs data from {start}, module_ids={self.seen_modules} [all]\"\n",
    "        if self.num_rescale < len(self.seen_modules) * 3:\n",
    "            self.fig.tight_layout()\n",
    "            self.num_rescale += 1\n",
    "        self.fig.suptitle(plt_title)\n",
    "\n",
    "        clear_output(wait=True)\n",
    "        display(self.fig)\n"
   ]
  },
  {
   "cell_type": "code",
   "execution_count": 10,
   "id": "bdf579c7-3b38-4523-8e66-de2f4248e02d",
   "metadata": {},
   "outputs": [],
   "source": [
    "# load config and paths\n",
    "cfg_dir = Path('daq_data/config')\n",
    "daq_config_file = 'daq_config_grpc_simulate.json'\n",
    "hp_io_config_simulate_file = 'hp_io_config_simulate.json'\n",
    "with open(cfg_dir / hp_io_config_simulate_file, 'r') as f:\n",
    "    hp_io_cfg = json.load(f)\n",
    "\n",
    "with open(cfg_dir / daq_config_file, 'r') as f:\n",
    "    daq_config = json.load(f)"
   ]
  },
  {
   "cell_type": "code",
   "execution_count": 11,
   "id": "a9178075-1bb9-4ca2-b2b3-6236362e807b",
   "metadata": {},
   "outputs": [
    {
     "data": {
      "text/html": [
       "<pre style=\"white-space:pre;overflow-x:auto;line-height:normal;font-family:Menlo,'DejaVu Sans Mono',consolas,'Courier New',monospace\">checking connection to <span style=\"color: #808000; text-decoration-color: #808000\">host</span>=<span style=\"color: #008000; text-decoration-color: #008000\">'localhost'</span>\n",
       "</pre>\n"
      ],
      "text/plain": [
       "checking connection to \u001b[33mhost\u001b[0m=\u001b[32m'localhost'\u001b[0m\n"
      ]
     },
     "metadata": {},
     "output_type": "display_data"
    },
    {
     "data": {
      "text/html": [
       "<pre style=\"white-space:pre;overflow-x:auto;line-height:normal;font-family:Menlo,'DejaVu Sans Mono',consolas,'Courier New',monospace\"><span style=\"color: #7fbfbf; text-decoration-color: #7fbfbf\">16:22:02 </span><span style=\"color: #000080; text-decoration-color: #000080\">INFO    </span> <span style=\"font-weight: bold\">[</span><span style=\"color: #808000; text-decoration-color: #808000\">tid</span>=<span style=\"color: #008080; text-decoration-color: #008080; font-weight: bold\">8757206784</span><span style=\"font-weight: bold\">]</span> <span style=\"font-weight: bold\">[</span><span style=\"color: #800080; text-decoration-color: #800080; font-weight: bold\">_add_file_from_response</span><span style=\"font-weight: bold\">()]</span> Loading  <a href=\"file:///Users/nico/anaconda3/envs/grpc-py39/lib/python3.9/site-packages/grpc_reflection/v1alpha/proto_reflection_descriptor_database.py\" target=\"_blank\"><span style=\"color: #7f7f7f; text-decoration-color: #7f7f7f\">proto_reflection_descriptor_database.py</span></a><span style=\"color: #7f7f7f; text-decoration-color: #7f7f7f\">:</span><a href=\"file:///Users/nico/anaconda3/envs/grpc-py39/lib/python3.9/site-packages/grpc_reflection/v1alpha/proto_reflection_descriptor_database.py#228\" target=\"_blank\"><span style=\"color: #7f7f7f; text-decoration-color: #7f7f7f\">228</span></a>\n",
       "<span style=\"color: #7fbfbf; text-decoration-color: #7fbfbf\">         </span>         descriptors from file: daq_data.proto                 <span style=\"color: #7f7f7f; text-decoration-color: #7f7f7f\">                                           </span>\n",
       "</pre>\n"
      ],
      "text/plain": [
       "\u001b[2;36m16:22:02\u001b[0m\u001b[2;36m \u001b[0m\u001b[34mINFO    \u001b[0m \u001b[1m[\u001b[0m\u001b[33mtid\u001b[0m=\u001b[1;36m8757206784\u001b[0m\u001b[1m]\u001b[0m \u001b[1m[\u001b[0m\u001b[1;35m_add_file_from_response\u001b[0m\u001b[1m(\u001b[0m\u001b[1m)\u001b[0m\u001b[1m]\u001b[0m Loading  \u001b]8;id=643489;file:///Users/nico/anaconda3/envs/grpc-py39/lib/python3.9/site-packages/grpc_reflection/v1alpha/proto_reflection_descriptor_database.py\u001b\\\u001b[2mproto_reflection_descriptor_database.py\u001b[0m\u001b]8;;\u001b\\\u001b[2m:\u001b[0m\u001b]8;id=308859;file:///Users/nico/anaconda3/envs/grpc-py39/lib/python3.9/site-packages/grpc_reflection/v1alpha/proto_reflection_descriptor_database.py#228\u001b\\\u001b[2m228\u001b[0m\u001b]8;;\u001b\\\n",
       "\u001b[2;36m         \u001b[0m         descriptors from file: daq_data.proto                 \u001b[2m                                           \u001b[0m\n"
      ]
     },
     "metadata": {},
     "output_type": "display_data"
    },
    {
     "data": {
      "text/html": [
       "<pre style=\"white-space:pre;overflow-x:auto;line-height:normal;font-family:Menlo,'DejaVu Sans Mono',consolas,'Courier New',monospace\"><span style=\"color: #7fbfbf; text-decoration-color: #7fbfbf\">         </span><span style=\"color: #000080; text-decoration-color: #000080\">INFO    </span> <span style=\"font-weight: bold\">[</span><span style=\"color: #808000; text-decoration-color: #808000\">tid</span>=<span style=\"color: #008080; text-decoration-color: #008080; font-weight: bold\">8757206784</span><span style=\"font-weight: bold\">]</span> <span style=\"font-weight: bold\">[</span><span style=\"color: #800080; text-decoration-color: #800080; font-weight: bold\">_add_file_from_response</span><span style=\"font-weight: bold\">()]</span> Loading  <a href=\"file:///Users/nico/anaconda3/envs/grpc-py39/lib/python3.9/site-packages/grpc_reflection/v1alpha/proto_reflection_descriptor_database.py\" target=\"_blank\"><span style=\"color: #7f7f7f; text-decoration-color: #7f7f7f\">proto_reflection_descriptor_database.py</span></a><span style=\"color: #7f7f7f; text-decoration-color: #7f7f7f\">:</span><a href=\"file:///Users/nico/anaconda3/envs/grpc-py39/lib/python3.9/site-packages/grpc_reflection/v1alpha/proto_reflection_descriptor_database.py#228\" target=\"_blank\"><span style=\"color: #7f7f7f; text-decoration-color: #7f7f7f\">228</span></a>\n",
       "<span style=\"color: #7fbfbf; text-decoration-color: #7fbfbf\">         </span>         descriptors from file: google/protobuf/struct.proto   <span style=\"color: #7f7f7f; text-decoration-color: #7f7f7f\">                                           </span>\n",
       "</pre>\n"
      ],
      "text/plain": [
       "\u001b[2;36m        \u001b[0m\u001b[2;36m \u001b[0m\u001b[34mINFO    \u001b[0m \u001b[1m[\u001b[0m\u001b[33mtid\u001b[0m=\u001b[1;36m8757206784\u001b[0m\u001b[1m]\u001b[0m \u001b[1m[\u001b[0m\u001b[1;35m_add_file_from_response\u001b[0m\u001b[1m(\u001b[0m\u001b[1m)\u001b[0m\u001b[1m]\u001b[0m Loading  \u001b]8;id=698902;file:///Users/nico/anaconda3/envs/grpc-py39/lib/python3.9/site-packages/grpc_reflection/v1alpha/proto_reflection_descriptor_database.py\u001b\\\u001b[2mproto_reflection_descriptor_database.py\u001b[0m\u001b]8;;\u001b\\\u001b[2m:\u001b[0m\u001b]8;id=717864;file:///Users/nico/anaconda3/envs/grpc-py39/lib/python3.9/site-packages/grpc_reflection/v1alpha/proto_reflection_descriptor_database.py#228\u001b\\\u001b[2m228\u001b[0m\u001b]8;;\u001b\\\n",
       "\u001b[2;36m         \u001b[0m         descriptors from file: google/protobuf/struct.proto   \u001b[2m                                           \u001b[0m\n"
      ]
     },
     "metadata": {},
     "output_type": "display_data"
    },
    {
     "data": {
      "text/html": [
       "<pre style=\"white-space:pre;overflow-x:auto;line-height:normal;font-family:Menlo,'DejaVu Sans Mono',consolas,'Courier New',monospace\"><span style=\"color: #7fbfbf; text-decoration-color: #7fbfbf\">         </span><span style=\"color: #000080; text-decoration-color: #000080\">INFO    </span> <span style=\"font-weight: bold\">[</span><span style=\"color: #808000; text-decoration-color: #808000\">tid</span>=<span style=\"color: #008080; text-decoration-color: #008080; font-weight: bold\">8757206784</span><span style=\"font-weight: bold\">]</span> <span style=\"font-weight: bold\">[</span><span style=\"color: #800080; text-decoration-color: #800080; font-weight: bold\">_add_file_from_response</span><span style=\"font-weight: bold\">()]</span> Loading  <a href=\"file:///Users/nico/anaconda3/envs/grpc-py39/lib/python3.9/site-packages/grpc_reflection/v1alpha/proto_reflection_descriptor_database.py\" target=\"_blank\"><span style=\"color: #7f7f7f; text-decoration-color: #7f7f7f\">proto_reflection_descriptor_database.py</span></a><span style=\"color: #7f7f7f; text-decoration-color: #7f7f7f\">:</span><a href=\"file:///Users/nico/anaconda3/envs/grpc-py39/lib/python3.9/site-packages/grpc_reflection/v1alpha/proto_reflection_descriptor_database.py#228\" target=\"_blank\"><span style=\"color: #7f7f7f; text-decoration-color: #7f7f7f\">228</span></a>\n",
       "<span style=\"color: #7fbfbf; text-decoration-color: #7fbfbf\">         </span>         descriptors from file:                                <span style=\"color: #7f7f7f; text-decoration-color: #7f7f7f\">                                           </span>\n",
       "<span style=\"color: #7fbfbf; text-decoration-color: #7fbfbf\">         </span>         google/protobuf/timestamp.proto                       <span style=\"color: #7f7f7f; text-decoration-color: #7f7f7f\">                                           </span>\n",
       "</pre>\n"
      ],
      "text/plain": [
       "\u001b[2;36m        \u001b[0m\u001b[2;36m \u001b[0m\u001b[34mINFO    \u001b[0m \u001b[1m[\u001b[0m\u001b[33mtid\u001b[0m=\u001b[1;36m8757206784\u001b[0m\u001b[1m]\u001b[0m \u001b[1m[\u001b[0m\u001b[1;35m_add_file_from_response\u001b[0m\u001b[1m(\u001b[0m\u001b[1m)\u001b[0m\u001b[1m]\u001b[0m Loading  \u001b]8;id=98137;file:///Users/nico/anaconda3/envs/grpc-py39/lib/python3.9/site-packages/grpc_reflection/v1alpha/proto_reflection_descriptor_database.py\u001b\\\u001b[2mproto_reflection_descriptor_database.py\u001b[0m\u001b]8;;\u001b\\\u001b[2m:\u001b[0m\u001b]8;id=485436;file:///Users/nico/anaconda3/envs/grpc-py39/lib/python3.9/site-packages/grpc_reflection/v1alpha/proto_reflection_descriptor_database.py#228\u001b\\\u001b[2m228\u001b[0m\u001b]8;;\u001b\\\n",
       "\u001b[2;36m         \u001b[0m         descriptors from file:                                \u001b[2m                                           \u001b[0m\n",
       "\u001b[2;36m         \u001b[0m         google/protobuf/timestamp.proto                       \u001b[2m                                           \u001b[0m\n"
      ]
     },
     "metadata": {},
     "output_type": "display_data"
    },
    {
     "data": {
      "text/html": [
       "<pre style=\"white-space:pre;overflow-x:auto;line-height:normal;font-family:Menlo,'DejaVu Sans Mono',consolas,'Courier New',monospace\">initializing <span style=\"color: #808000; text-decoration-color: #808000\">host</span>=<span style=\"color: #008000; text-decoration-color: #008000\">'localhost'</span>\n",
       "</pre>\n"
      ],
      "text/plain": [
       "initializing \u001b[33mhost\u001b[0m=\u001b[32m'localhost'\u001b[0m\n"
      ]
     },
     "metadata": {},
     "output_type": "display_data"
    },
    {
     "data": {
      "text/html": [
       "<pre style=\"white-space:pre;overflow-x:auto;line-height:normal;font-family:Menlo,'DejaVu Sans Mono',consolas,'Courier New',monospace\"><span style=\"color: #808000; text-decoration-color: #808000\">init_success</span>=<span style=\"color: #00ff00; text-decoration-color: #00ff00; font-style: italic\">True</span>\n",
       "</pre>\n"
      ],
      "text/plain": [
       "\u001b[33minit_success\u001b[0m=\u001b[3;92mTrue\u001b[0m\n"
      ]
     },
     "metadata": {},
     "output_type": "display_data"
    }
   ],
   "source": [
    "# initialize the server\n",
    "with DaqDataClient(daq_config, log_level=logging.WARNING) as ddc:\n",
    "    valid_daq_hosts = ddc.get_valid_daq_hosts()\n",
    "    for host in valid_daq_hosts:\n",
    "        print(f\"checking connection to {host=}\")\n",
    "        ddc.reflect_services(host)\n",
    "        print(f\"initializing {host=}\")\n",
    "        # initialize the server with simulation data\n",
    "        init_success = ddc.init_sim(host)\n",
    "        print(f\"{init_success=}\")\n",
    "        if not init_success:\n",
    "            raise RuntimeError(f'failed to initialize {host=}')"
   ]
  },
  {
   "cell_type": "code",
   "execution_count": 12,
   "id": "8fc4bea9-2e5f-4189-9804-45f6ac56691c",
   "metadata": {},
   "outputs": [
    {
     "data": {
      "image/png": "[encoded data removed]",
      "text/plain": [
       "<Figure size 660x300 with 4 Axes>"
      ]
     },
     "metadata": {},
     "output_type": "display_data"
    }
   ],
   "source": [
    "# stream images: config \n",
    "stream_movie_data = True\n",
    "stream_pulse_height_data = True\n",
    "update_interval_seconds=0.5\n",
    "\n",
    "# stream images: calls\n",
    "with DaqDataClient(daq_config) as ddc:\n",
    "    valid_daq_hosts = ddc.get_valid_daq_hosts()\n",
    "    # create visualizer\n",
    "    previewer = PanoImagePreviewer(\n",
    "        stream_movie_data, stream_pulse_height_data, [], ddc.logger, row_height=3, font_size=6, text_width=30, window_size=1000\n",
    "    )\n",
    "    # Call the StreamImages RPC on all active DAQ nodes for previewing pulse-height and movie-mode data\n",
    "    streams = []\n",
    "    for host in valid_daq_hosts:\n",
    "        stream = ddc.stream_images(\n",
    "            host,\n",
    "            stream_movie_data,\n",
    "            stream_pulse_height_data,\n",
    "            update_interval_seconds,\n",
    "            wait_for_ready=True,\n",
    "            parse_pano_images=True,\n",
    "        )\n",
    "        streams.append(stream)\n",
    "\n",
    "    # Update plots with data from the return streams\n",
    "    while True:\n",
    "        for stream in streams:\n",
    "            pano_image = next(stream)\n",
    "            previewer.update(pano_image)"
   ]
  }
 ],
 "metadata": {
  "kernelspec": {
   "display_name": "Python 3 (ipykernel)",
   "language": "python",
   "name": "python3"
  },
  "language_info": {
   "codemirror_mode": {
    "name": "ipython",
    "version": 3
   },
   "file_extension": ".py",
   "mimetype": "text/x-python",
   "name": "python",
   "nbconvert_exporter": "python",
   "pygments_lexer": "ipython3",
   "version": "3.9.13"
  }
 },
 "nbformat": 4,
 "nbformat_minor": 5
}
