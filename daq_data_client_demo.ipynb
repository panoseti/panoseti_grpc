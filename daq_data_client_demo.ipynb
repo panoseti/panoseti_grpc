{
 "cells": [
  {
   "cell_type": "markdown",
   "id": "9736d50b-d792-41b1-9e30-da7dbc200a67",
   "metadata": {},
   "source": [
    "## Minimal StreamImages Client"
   ]
  },
  {
   "cell_type": "code",
   "execution_count": 1,
   "id": "027ef0eb-f86c-4200-93fc-210a651b3dc2",
   "metadata": {},
   "outputs": [
    {
     "name": "stdout",
     "output_type": "stream",
     "text": [
      "Connected to: {'localhost', '10.0.0.60'}\n"
     ]
    },
    {
     "data": {
      "text/html": [
       "<pre style=\"white-space:pre;overflow-x:auto;line-height:normal;font-family:Menlo,'DejaVu Sans Mono',consolas,'Courier New',monospace\"><span style=\"color: #7fbfbf; text-decoration-color: #7fbfbf\">12:14:07 </span><span style=\"color: #000080; text-decoration-color: #000080\">INFO    </span> <span style=\"font-weight: bold\">[</span><span style=\"color: #808000; text-decoration-color: #808000\">tid</span>=<span style=\"color: #008080; text-decoration-color: #008080; font-weight: bold\">8757206784</span><span style=\"font-weight: bold\">]</span> <span style=\"font-weight: bold\">[</span><span style=\"color: #800080; text-decoration-color: #800080; font-weight: bold\">init_hp_io</span><span style=\"font-weight: bold\">()]</span> Initializing the hp_io thread with         <a href=\"file:///Users/nico/panoseti/panoseti_grpc/daq_data/daq_data_client.py\" target=\"_blank\"><span style=\"color: #7f7f7f; text-decoration-color: #7f7f7f\">daq_data_client.py</span></a><span style=\"color: #7f7f7f; text-decoration-color: #7f7f7f\">:</span><a href=\"file:///Users/nico/panoseti/panoseti_grpc/daq_data/daq_data_client.py#365\" target=\"_blank\"><span style=\"color: #7f7f7f; text-decoration-color: #7f7f7f\">365</span></a>\n",
       "<span style=\"color: #7fbfbf; text-decoration-color: #7fbfbf\">         </span>         <span style=\"font-weight: bold\">{</span><span style=\"color: #008000; text-decoration-color: #008000\">'data_dir'</span>: <span style=\"color: #008000; text-decoration-color: #008000\">'simulated_data_dir'</span>, <span style=\"color: #008000; text-decoration-color: #008000\">'update_interval_seconds'</span>: <span style=\"color: #008080; text-decoration-color: #008080; font-weight: bold\">0.5</span>,         <span style=\"color: #7f7f7f; text-decoration-color: #7f7f7f\">                      </span>\n",
       "<span style=\"color: #7fbfbf; text-decoration-color: #7fbfbf\">         </span>         <span style=\"color: #008000; text-decoration-color: #008000\">'force'</span>: <span style=\"color: #00ff00; text-decoration-color: #00ff00; font-style: italic\">True</span>, <span style=\"color: #008000; text-decoration-color: #008000\">'simulate_daq'</span>: <span style=\"color: #00ff00; text-decoration-color: #00ff00; font-style: italic\">True</span>, <span style=\"color: #008000; text-decoration-color: #008000\">'module_ids'</span>: <span style=\"font-weight: bold\">[]}</span>                     <span style=\"color: #7f7f7f; text-decoration-color: #7f7f7f\">                      </span>\n",
       "</pre>\n"
      ],
      "text/plain": [
       "\u001B[2;36m12:14:07\u001B[0m\u001B[2;36m \u001B[0m\u001B[34mINFO    \u001B[0m \u001B[1m[\u001B[0m\u001B[33mtid\u001B[0m=\u001B[1;36m8757206784\u001B[0m\u001B[1m]\u001B[0m \u001B[1m[\u001B[0m\u001B[1;35minit_hp_io\u001B[0m\u001B[1m(\u001B[0m\u001B[1m)\u001B[0m\u001B[1m]\u001B[0m Initializing the hp_io thread with         \u001B]8;id=67288;file:///Users/nico/panoseti/panoseti_grpc/daq_data/daq_data_client.py\u001B\\\u001B[2mdaq_data_client.py\u001B[0m\u001B]8;;\u001B\\\u001B[2m:\u001B[0m\u001B]8;id=232414;file:///Users/nico/panoseti/panoseti_grpc/daq_data/daq_data_client.py#365\u001B\\\u001B[2m365\u001B[0m\u001B]8;;\u001B\\\n",
       "\u001B[2;36m         \u001B[0m         \u001B[1m{\u001B[0m\u001B[32m'data_dir'\u001B[0m: \u001B[32m'simulated_data_dir'\u001B[0m, \u001B[32m'update_interval_seconds'\u001B[0m: \u001B[1;36m0.5\u001B[0m,         \u001B[2m                      \u001B[0m\n",
       "\u001B[2;36m         \u001B[0m         \u001B[32m'force'\u001B[0m: \u001B[3;92mTrue\u001B[0m, \u001B[32m'simulate_daq'\u001B[0m: \u001B[3;92mTrue\u001B[0m, \u001B[32m'module_ids'\u001B[0m: \u001B[1m[\u001B[0m\u001B[1m]\u001B[0m\u001B[1m}\u001B[0m                     \u001B[2m                      \u001B[0m\n"
      ]
     },
     "metadata": {},
     "output_type": "display_data"
    },
    {
     "data": {
      "text/html": [
       "<pre style=\"white-space:pre;overflow-x:auto;line-height:normal;font-family:Menlo,'DejaVu Sans Mono',consolas,'Courier New',monospace\"><span style=\"color: #7fbfbf; text-decoration-color: #7fbfbf\">12:14:10 </span><span style=\"color: #000080; text-decoration-color: #000080\">INFO    </span> <span style=\"font-weight: bold\">[</span><span style=\"color: #808000; text-decoration-color: #808000\">tid</span>=<span style=\"color: #008080; text-decoration-color: #008080; font-weight: bold\">8757206784</span><span style=\"font-weight: bold\">]</span> <span style=\"font-weight: bold\">[</span><span style=\"color: #800080; text-decoration-color: #800080; font-weight: bold\">init_hp_io</span><span style=\"font-weight: bold\">()]</span> <span style=\"color: #808000; text-decoration-color: #808000\">host</span>=<span style=\"color: #008000; text-decoration-color: #008000\">'localhost'</span>:                          <a href=\"file:///Users/nico/panoseti/panoseti_grpc/daq_data/daq_data_client.py\" target=\"_blank\"><span style=\"color: #7f7f7f; text-decoration-color: #7f7f7f\">daq_data_client.py</span></a><span style=\"color: #7f7f7f; text-decoration-color: #7f7f7f\">:</span><a href=\"file:///Users/nico/panoseti/panoseti_grpc/daq_data/daq_data_client.py#369\" target=\"_blank\"><span style=\"color: #7f7f7f; text-decoration-color: #7f7f7f\">369</span></a>\n",
       "<span style=\"color: #7fbfbf; text-decoration-color: #7fbfbf\">         </span>         init_hp_io_response.<span style=\"color: #808000; text-decoration-color: #808000\">success</span>=<span style=\"color: #00ff00; text-decoration-color: #00ff00; font-style: italic\">True</span>                                           <span style=\"color: #7f7f7f; text-decoration-color: #7f7f7f\">                      </span>\n",
       "</pre>\n"
      ],
      "text/plain": [
       "\u001B[2;36m12:14:10\u001B[0m\u001B[2;36m \u001B[0m\u001B[34mINFO    \u001B[0m \u001B[1m[\u001B[0m\u001B[33mtid\u001B[0m=\u001B[1;36m8757206784\u001B[0m\u001B[1m]\u001B[0m \u001B[1m[\u001B[0m\u001B[1;35minit_hp_io\u001B[0m\u001B[1m(\u001B[0m\u001B[1m)\u001B[0m\u001B[1m]\u001B[0m \u001B[33mhost\u001B[0m=\u001B[32m'localhost'\u001B[0m:                          \u001B]8;id=209112;file:///Users/nico/panoseti/panoseti_grpc/daq_data/daq_data_client.py\u001B\\\u001B[2mdaq_data_client.py\u001B[0m\u001B]8;;\u001B\\\u001B[2m:\u001B[0m\u001B]8;id=510288;file:///Users/nico/panoseti/panoseti_grpc/daq_data/daq_data_client.py#369\u001B\\\u001B[2m369\u001B[0m\u001B]8;;\u001B\\\n",
       "\u001B[2;36m         \u001B[0m         init_hp_io_response.\u001B[33msuccess\u001B[0m=\u001B[3;92mTrue\u001B[0m                                           \u001B[2m                      \u001B[0m\n"
      ]
     },
     "metadata": {},
     "output_type": "display_data"
    },
    {
     "data": {
      "text/html": [
       "<pre style=\"white-space:pre;overflow-x:auto;line-height:normal;font-family:Menlo,'DejaVu Sans Mono',consolas,'Courier New',monospace\"><span style=\"color: #7fbfbf; text-decoration-color: #7fbfbf\">         </span><span style=\"color: #000080; text-decoration-color: #000080\">INFO    </span> <span style=\"font-weight: bold\">[</span><span style=\"color: #808000; text-decoration-color: #808000\">tid</span>=<span style=\"color: #008080; text-decoration-color: #008080; font-weight: bold\">8757206784</span><span style=\"font-weight: bold\">]</span> <span style=\"font-weight: bold\">[</span><span style=\"color: #800080; text-decoration-color: #800080; font-weight: bold\">init_hp_io</span><span style=\"font-weight: bold\">()]</span> Initializing the hp_io thread with         <a href=\"file:///Users/nico/panoseti/panoseti_grpc/daq_data/daq_data_client.py\" target=\"_blank\"><span style=\"color: #7f7f7f; text-decoration-color: #7f7f7f\">daq_data_client.py</span></a><span style=\"color: #7f7f7f; text-decoration-color: #7f7f7f\">:</span><a href=\"file:///Users/nico/panoseti/panoseti_grpc/daq_data/daq_data_client.py#365\" target=\"_blank\"><span style=\"color: #7f7f7f; text-decoration-color: #7f7f7f\">365</span></a>\n",
       "<span style=\"color: #7fbfbf; text-decoration-color: #7fbfbf\">         </span>         <span style=\"font-weight: bold\">{</span><span style=\"color: #008000; text-decoration-color: #008000\">'data_dir'</span>: <span style=\"color: #008000; text-decoration-color: #008000\">'simulated_data_dir'</span>, <span style=\"color: #008000; text-decoration-color: #008000\">'update_interval_seconds'</span>: <span style=\"color: #008080; text-decoration-color: #008080; font-weight: bold\">0.5</span>,         <span style=\"color: #7f7f7f; text-decoration-color: #7f7f7f\">                      </span>\n",
       "<span style=\"color: #7fbfbf; text-decoration-color: #7fbfbf\">         </span>         <span style=\"color: #008000; text-decoration-color: #008000\">'force'</span>: <span style=\"color: #00ff00; text-decoration-color: #00ff00; font-style: italic\">True</span>, <span style=\"color: #008000; text-decoration-color: #008000\">'simulate_daq'</span>: <span style=\"color: #00ff00; text-decoration-color: #00ff00; font-style: italic\">True</span>, <span style=\"color: #008000; text-decoration-color: #008000\">'module_ids'</span>: <span style=\"font-weight: bold\">[]}</span>                     <span style=\"color: #7f7f7f; text-decoration-color: #7f7f7f\">                      </span>\n",
       "</pre>\n"
      ],
      "text/plain": [
       "\u001B[2;36m        \u001B[0m\u001B[2;36m \u001B[0m\u001B[34mINFO    \u001B[0m \u001B[1m[\u001B[0m\u001B[33mtid\u001B[0m=\u001B[1;36m8757206784\u001B[0m\u001B[1m]\u001B[0m \u001B[1m[\u001B[0m\u001B[1;35minit_hp_io\u001B[0m\u001B[1m(\u001B[0m\u001B[1m)\u001B[0m\u001B[1m]\u001B[0m Initializing the hp_io thread with         \u001B]8;id=478035;file:///Users/nico/panoseti/panoseti_grpc/daq_data/daq_data_client.py\u001B\\\u001B[2mdaq_data_client.py\u001B[0m\u001B]8;;\u001B\\\u001B[2m:\u001B[0m\u001B]8;id=320258;file:///Users/nico/panoseti/panoseti_grpc/daq_data/daq_data_client.py#365\u001B\\\u001B[2m365\u001B[0m\u001B]8;;\u001B\\\n",
       "\u001B[2;36m         \u001B[0m         \u001B[1m{\u001B[0m\u001B[32m'data_dir'\u001B[0m: \u001B[32m'simulated_data_dir'\u001B[0m, \u001B[32m'update_interval_seconds'\u001B[0m: \u001B[1;36m0.5\u001B[0m,         \u001B[2m                      \u001B[0m\n",
       "\u001B[2;36m         \u001B[0m         \u001B[32m'force'\u001B[0m: \u001B[3;92mTrue\u001B[0m, \u001B[32m'simulate_daq'\u001B[0m: \u001B[3;92mTrue\u001B[0m, \u001B[32m'module_ids'\u001B[0m: \u001B[1m[\u001B[0m\u001B[1m]\u001B[0m\u001B[1m}\u001B[0m                     \u001B[2m                      \u001B[0m\n"
      ]
     },
     "metadata": {},
     "output_type": "display_data"
    },
    {
     "data": {
      "text/html": [
       "<pre style=\"white-space:pre;overflow-x:auto;line-height:normal;font-family:Menlo,'DejaVu Sans Mono',consolas,'Courier New',monospace\"><span style=\"color: #7fbfbf; text-decoration-color: #7fbfbf\">12:14:12 </span><span style=\"color: #000080; text-decoration-color: #000080\">INFO    </span> <span style=\"font-weight: bold\">[</span><span style=\"color: #808000; text-decoration-color: #808000\">tid</span>=<span style=\"color: #008080; text-decoration-color: #008080; font-weight: bold\">8757206784</span><span style=\"font-weight: bold\">]</span> <span style=\"font-weight: bold\">[</span><span style=\"color: #800080; text-decoration-color: #800080; font-weight: bold\">init_hp_io</span><span style=\"font-weight: bold\">()]</span> <span style=\"color: #808000; text-decoration-color: #808000\">host</span>=<span style=\"color: #008000; text-decoration-color: #008000\">'10.0.0.60'</span>:                          <a href=\"file:///Users/nico/panoseti/panoseti_grpc/daq_data/daq_data_client.py\" target=\"_blank\"><span style=\"color: #7f7f7f; text-decoration-color: #7f7f7f\">daq_data_client.py</span></a><span style=\"color: #7f7f7f; text-decoration-color: #7f7f7f\">:</span><a href=\"file:///Users/nico/panoseti/panoseti_grpc/daq_data/daq_data_client.py#369\" target=\"_blank\"><span style=\"color: #7f7f7f; text-decoration-color: #7f7f7f\">369</span></a>\n",
       "<span style=\"color: #7fbfbf; text-decoration-color: #7fbfbf\">         </span>         init_hp_io_response.<span style=\"color: #808000; text-decoration-color: #808000\">success</span>=<span style=\"color: #00ff00; text-decoration-color: #00ff00; font-style: italic\">True</span>                                           <span style=\"color: #7f7f7f; text-decoration-color: #7f7f7f\">                      </span>\n",
       "</pre>\n"
      ],
      "text/plain": [
       "\u001B[2;36m12:14:12\u001B[0m\u001B[2;36m \u001B[0m\u001B[34mINFO    \u001B[0m \u001B[1m[\u001B[0m\u001B[33mtid\u001B[0m=\u001B[1;36m8757206784\u001B[0m\u001B[1m]\u001B[0m \u001B[1m[\u001B[0m\u001B[1;35minit_hp_io\u001B[0m\u001B[1m(\u001B[0m\u001B[1m)\u001B[0m\u001B[1m]\u001B[0m \u001B[33mhost\u001B[0m=\u001B[32m'10.0.0.60'\u001B[0m:                          \u001B]8;id=665811;file:///Users/nico/panoseti/panoseti_grpc/daq_data/daq_data_client.py\u001B\\\u001B[2mdaq_data_client.py\u001B[0m\u001B]8;;\u001B\\\u001B[2m:\u001B[0m\u001B]8;id=548639;file:///Users/nico/panoseti/panoseti_grpc/daq_data/daq_data_client.py#369\u001B\\\u001B[2m369\u001B[0m\u001B]8;;\u001B\\\n",
       "\u001B[2;36m         \u001B[0m         init_hp_io_response.\u001B[33msuccess\u001B[0m=\u001B[3;92mTrue\u001B[0m                                           \u001B[2m                      \u001B[0m\n"
      ]
     },
     "metadata": {},
     "output_type": "display_data"
    },
    {
     "name": "stdout",
     "output_type": "stream",
     "text": [
      "All servers initialized for simulation.\n"
     ]
    },
    {
     "data": {
      "text/html": [
       "<pre style=\"white-space:pre;overflow-x:auto;line-height:normal;font-family:Menlo,'DejaVu Sans Mono',consolas,'Courier New',monospace\"><span style=\"color: #7fbfbf; text-decoration-color: #7fbfbf\">         </span><span style=\"color: #000080; text-decoration-color: #000080\">INFO    </span> <span style=\"font-weight: bold\">[</span><span style=\"color: #808000; text-decoration-color: #808000\">tid</span>=<span style=\"color: #008080; text-decoration-color: #008080; font-weight: bold\">8757206784</span><span style=\"font-weight: bold\">]</span> <span style=\"font-weight: bold\">[</span><span style=\"color: #800080; text-decoration-color: #800080; font-weight: bold\">stream_images</span><span style=\"font-weight: bold\">()]</span>                                         <a href=\"file:///Users/nico/panoseti/panoseti_grpc/daq_data/daq_data_client.py\" target=\"_blank\"><span style=\"color: #7f7f7f; text-decoration-color: #7f7f7f\">daq_data_client.py</span></a><span style=\"color: #7f7f7f; text-decoration-color: #7f7f7f\">:</span><a href=\"file:///Users/nico/panoseti/panoseti_grpc/daq_data/daq_data_client.py#279\" target=\"_blank\"><span style=\"color: #7f7f7f; text-decoration-color: #7f7f7f\">279</span></a>\n",
       "<span style=\"color: #7fbfbf; text-decoration-color: #7fbfbf\">         </span>         <span style=\"color: #808000; text-decoration-color: #808000\">stream_images_request</span>=<span style=\"font-weight: bold\">{</span><span style=\"color: #008000; text-decoration-color: #008000\">'stream_movie_data'</span>: <span style=\"color: #00ff00; text-decoration-color: #00ff00; font-style: italic\">True</span>,                          <span style=\"color: #7f7f7f; text-decoration-color: #7f7f7f\">                      </span>\n",
       "<span style=\"color: #7fbfbf; text-decoration-color: #7fbfbf\">         </span>         <span style=\"color: #008000; text-decoration-color: #008000\">'stream_pulse_height_data'</span>: <span style=\"color: #00ff00; text-decoration-color: #00ff00; font-style: italic\">True</span>, <span style=\"color: #008000; text-decoration-color: #008000\">'update_interval_seconds'</span>: <span style=\"color: #008080; text-decoration-color: #008080; font-weight: bold\">1.0</span>,          <span style=\"color: #7f7f7f; text-decoration-color: #7f7f7f\">                      </span>\n",
       "<span style=\"color: #7fbfbf; text-decoration-color: #7fbfbf\">         </span>         <span style=\"color: #008000; text-decoration-color: #008000\">'module_ids'</span>: <span style=\"font-weight: bold\">[]}</span>                                                          <span style=\"color: #7f7f7f; text-decoration-color: #7f7f7f\">                      </span>\n",
       "</pre>\n"
      ],
      "text/plain": [
       "\u001B[2;36m        \u001B[0m\u001B[2;36m \u001B[0m\u001B[34mINFO    \u001B[0m \u001B[1m[\u001B[0m\u001B[33mtid\u001B[0m=\u001B[1;36m8757206784\u001B[0m\u001B[1m]\u001B[0m \u001B[1m[\u001B[0m\u001B[1;35mstream_images\u001B[0m\u001B[1m(\u001B[0m\u001B[1m)\u001B[0m\u001B[1m]\u001B[0m                                         \u001B]8;id=5613;file:///Users/nico/panoseti/panoseti_grpc/daq_data/daq_data_client.py\u001B\\\u001B[2mdaq_data_client.py\u001B[0m\u001B]8;;\u001B\\\u001B[2m:\u001B[0m\u001B]8;id=415752;file:///Users/nico/panoseti/panoseti_grpc/daq_data/daq_data_client.py#279\u001B\\\u001B[2m279\u001B[0m\u001B]8;;\u001B\\\n",
       "\u001B[2;36m         \u001B[0m         \u001B[33mstream_images_request\u001B[0m=\u001B[1m{\u001B[0m\u001B[32m'stream_movie_data'\u001B[0m: \u001B[3;92mTrue\u001B[0m,                          \u001B[2m                      \u001B[0m\n",
       "\u001B[2;36m         \u001B[0m         \u001B[32m'stream_pulse_height_data'\u001B[0m: \u001B[3;92mTrue\u001B[0m, \u001B[32m'update_interval_seconds'\u001B[0m: \u001B[1;36m1.0\u001B[0m,          \u001B[2m                      \u001B[0m\n",
       "\u001B[2;36m         \u001B[0m         \u001B[32m'module_ids'\u001B[0m: \u001B[1m[\u001B[0m\u001B[1m]\u001B[0m\u001B[1m}\u001B[0m                                                          \u001B[2m                      \u001B[0m\n"
      ]
     },
     "metadata": {},
     "output_type": "display_data"
    },
    {
     "data": {
      "text/html": [
       "<pre style=\"white-space:pre;overflow-x:auto;line-height:normal;font-family:Menlo,'DejaVu Sans Mono',consolas,'Courier New',monospace\"><span style=\"color: #7fbfbf; text-decoration-color: #7fbfbf\">         </span><span style=\"color: #000080; text-decoration-color: #000080\">INFO    </span> <span style=\"font-weight: bold\">[</span><span style=\"color: #808000; text-decoration-color: #808000\">tid</span>=<span style=\"color: #008080; text-decoration-color: #008080; font-weight: bold\">8757206784</span><span style=\"font-weight: bold\">]</span> <span style=\"font-weight: bold\">[</span><span style=\"color: #800080; text-decoration-color: #800080; font-weight: bold\">stream_images</span><span style=\"font-weight: bold\">()]</span> Created StreamImages RPC to             <a href=\"file:///Users/nico/panoseti/panoseti_grpc/daq_data/daq_data_client.py\" target=\"_blank\"><span style=\"color: #7f7f7f; text-decoration-color: #7f7f7f\">daq_data_client.py</span></a><span style=\"color: #7f7f7f; text-decoration-color: #7f7f7f\">:</span><a href=\"file:///Users/nico/panoseti/panoseti_grpc/daq_data/daq_data_client.py#289\" target=\"_blank\"><span style=\"color: #7f7f7f; text-decoration-color: #7f7f7f\">289</span></a>\n",
       "<span style=\"color: #7fbfbf; text-decoration-color: #7fbfbf\">         </span>         <span style=\"color: #808000; text-decoration-color: #808000\">host</span>=<span style=\"color: #008000; text-decoration-color: #008000\">'localhost'</span>                                                           <span style=\"color: #7f7f7f; text-decoration-color: #7f7f7f\">                      </span>\n",
       "</pre>\n"
      ],
      "text/plain": [
       "\u001B[2;36m        \u001B[0m\u001B[2;36m \u001B[0m\u001B[34mINFO    \u001B[0m \u001B[1m[\u001B[0m\u001B[33mtid\u001B[0m=\u001B[1;36m8757206784\u001B[0m\u001B[1m]\u001B[0m \u001B[1m[\u001B[0m\u001B[1;35mstream_images\u001B[0m\u001B[1m(\u001B[0m\u001B[1m)\u001B[0m\u001B[1m]\u001B[0m Created StreamImages RPC to             \u001B]8;id=164654;file:///Users/nico/panoseti/panoseti_grpc/daq_data/daq_data_client.py\u001B\\\u001B[2mdaq_data_client.py\u001B[0m\u001B]8;;\u001B\\\u001B[2m:\u001B[0m\u001B]8;id=5301;file:///Users/nico/panoseti/panoseti_grpc/daq_data/daq_data_client.py#289\u001B\\\u001B[2m289\u001B[0m\u001B]8;;\u001B\\\n",
       "\u001B[2;36m         \u001B[0m         \u001B[33mhost\u001B[0m=\u001B[32m'localhost'\u001B[0m                                                           \u001B[2m                      \u001B[0m\n"
      ]
     },
     "metadata": {},
     "output_type": "display_data"
    },
    {
     "data": {
      "text/html": [
       "<pre style=\"white-space:pre;overflow-x:auto;line-height:normal;font-family:Menlo,'DejaVu Sans Mono',consolas,'Courier New',monospace\"><span style=\"color: #7fbfbf; text-decoration-color: #7fbfbf\">         </span><span style=\"color: #000080; text-decoration-color: #000080\">INFO    </span> <span style=\"font-weight: bold\">[</span><span style=\"color: #808000; text-decoration-color: #808000\">tid</span>=<span style=\"color: #008080; text-decoration-color: #008080; font-weight: bold\">8757206784</span><span style=\"font-weight: bold\">]</span> <span style=\"font-weight: bold\">[</span><span style=\"color: #800080; text-decoration-color: #800080; font-weight: bold\">stream_images</span><span style=\"font-weight: bold\">()]</span> Created StreamImages RPC to             <a href=\"file:///Users/nico/panoseti/panoseti_grpc/daq_data/daq_data_client.py\" target=\"_blank\"><span style=\"color: #7f7f7f; text-decoration-color: #7f7f7f\">daq_data_client.py</span></a><span style=\"color: #7f7f7f; text-decoration-color: #7f7f7f\">:</span><a href=\"file:///Users/nico/panoseti/panoseti_grpc/daq_data/daq_data_client.py#289\" target=\"_blank\"><span style=\"color: #7f7f7f; text-decoration-color: #7f7f7f\">289</span></a>\n",
       "<span style=\"color: #7fbfbf; text-decoration-color: #7fbfbf\">         </span>         <span style=\"color: #808000; text-decoration-color: #808000\">host</span>=<span style=\"color: #008000; text-decoration-color: #008000\">'10.0.0.60'</span>                                                           <span style=\"color: #7f7f7f; text-decoration-color: #7f7f7f\">                      </span>\n",
       "</pre>\n"
      ],
      "text/plain": [
       "\u001B[2;36m        \u001B[0m\u001B[2;36m \u001B[0m\u001B[34mINFO    \u001B[0m \u001B[1m[\u001B[0m\u001B[33mtid\u001B[0m=\u001B[1;36m8757206784\u001B[0m\u001B[1m]\u001B[0m \u001B[1m[\u001B[0m\u001B[1;35mstream_images\u001B[0m\u001B[1m(\u001B[0m\u001B[1m)\u001B[0m\u001B[1m]\u001B[0m Created StreamImages RPC to             \u001B]8;id=520056;file:///Users/nico/panoseti/panoseti_grpc/daq_data/daq_data_client.py\u001B\\\u001B[2mdaq_data_client.py\u001B[0m\u001B]8;;\u001B\\\u001B[2m:\u001B[0m\u001B]8;id=559535;file:///Users/nico/panoseti/panoseti_grpc/daq_data/daq_data_client.py#289\u001B\\\u001B[2m289\u001B[0m\u001B]8;;\u001B\\\n",
       "\u001B[2;36m         \u001B[0m         \u001B[33mhost\u001B[0m=\u001B[32m'10.0.0.60'\u001B[0m                                                           \u001B[2m                      \u001B[0m\n"
      ]
     },
     "metadata": {},
     "output_type": "display_data"
    },
    {
     "name": "stdout",
     "output_type": "stream",
     "text": [
      "Starting data stream. Press Ctrl+C to stop.\n",
      "Image: Module 224, Type: PULSE_HEIGHT, Timestamp: 2024-07-25 04:35:00.671721061\n",
      "Image: Module 24, Type: PULSE_HEIGHT, Timestamp: 2024-07-25 04:34:57.942348980\n",
      "Image: Module 224, Type: MOVIE, Timestamp: 2024-07-25 04:34:52.701007488\n",
      "Image: Module 24, Type: MOVIE, Timestamp: 2024-07-25 04:34:52.696007488\n"
     ]
    }
   ],
   "source": [
    "# Minimal full workflow example\n",
    "import json\n",
    "from daq_data.client import DaqDataClient\n",
    "\n",
    "# Load DAQ configuration\n",
    "with open('daq_data/config/daq_config_grpc_simulate.json', 'r') as f:\n",
    "    daq_config = json.load(f)\n",
    "\n",
    "try:\n",
    "    with DaqDataClient(daq_config) as client:\n",
    "        # 1. Get valid hosts\n",
    "        valid_hosts = client.get_valid_daq_hosts()\n",
    "        if not valid_hosts:\n",
    "            raise RuntimeError(\"No valid DAQ hosts found.\")\n",
    "        print(f\"Connected to: {valid_hosts}\")\n",
    "\n",
    "        # 2. Initialize servers in simulation mode\n",
    "        all_init_success = client.init_sim(valid_hosts)\n",
    "        if not all_init_success:\n",
    "            raise RuntimeError(\"Failed to initialize one or more servers.\")\n",
    "        print(\"All servers initialized for simulation.\")\n",
    "\n",
    "        # 3. Stream pulse-height and movie data from all modules\n",
    "        image_stream = client.stream_images(\n",
    "            hosts=valid_hosts,\n",
    "            stream_movie_data=True,\n",
    "            stream_pulse_height_data=True,\n",
    "            update_interval_seconds=1.0,\n",
    "            module_ids=()\n",
    "        )\n",
    "\n",
    "        # 4. Listen to the stream and process data\n",
    "        print(\"Starting data stream. Press Ctrl+C to stop.\")\n",
    "        for image_data in image_stream:\n",
    "            # In a real application, you would pass this data to a\n",
    "            # visualization or analysis function.\n",
    "            print(\n",
    "                f\"Image: Module {image_data['module_id']}, \"\n",
    "                f\"Type: {image_data['type']}, \"\n",
    "                f\"Timestamp: {image_data['header']['pandas_unix_timestamp']}\"\n",
    "            )\n",
    "\n",
    "except KeyboardInterrupt:\n",
    "    print(\"\\nStream stopped by user.\")\n",
    "except Exception as e:\n",
    "    print(f\"An error occurred: {e}\")"
   ]
  },
  {
   "cell_type": "markdown",
   "id": "58ac38b7-d7ea-4613-8337-07cf4741afb8",
   "metadata": {},
   "source": [
    "## Visualization Client Example"
   ]
  },
  {
   "metadata": {
    "ExecuteTime": {
     "end_time": "2025-07-29T02:32:16.354688Z",
     "start_time": "2025-07-29T02:32:15.510111Z"
    }
   },
   "cell_type": "code",
   "source": [
    "from pathlib import Path\n",
    "import json\n",
    "from rich import print\n",
    "import logging\n",
    "\n",
    "from daq_data.client import DaqDataClient\n",
    "from daq_data.plot import PanoImagePreviewer, PulseHeightDistribution\n",
    "\n",
    "%load_ext autoreload\n",
    "%autoreload 2"
   ],
   "id": "e75c6889858b8191",
   "outputs": [],
   "execution_count": 2
  },
  {
   "metadata": {
    "ExecuteTime": {
     "end_time": "2025-07-29T02:32:59.283257Z",
     "start_time": "2025-07-29T02:32:59.268644Z"
    }
   },
   "cell_type": "code",
   "source": [
    "# Configure paths\n",
    "cfg_dir = Path('daq_data/config')\n",
    "daq_config_file = 'daq_config_grpc_simulate.json'\n",
    "hp_io_config_simulate_file = 'hp_io_config_simulate.json'\n",
    "\n",
    "# Load configuration files\n",
    "with open(cfg_dir / hp_io_config_simulate_file, 'r') as f:\n",
    "    hp_io_cfg = json.load(f)\n",
    "\n",
    "with open(cfg_dir / daq_config_file, 'r') as f:\n",
    "    daq_config = json.load(f)"
   ],
   "id": "2f832942ff6d8957",
   "outputs": [],
   "execution_count": 3
  },
  {
   "cell_type": "code",
   "id": "a9178075-1bb9-4ca2-b2b3-6236362e807b",
   "metadata": {
    "ExecuteTime": {
     "end_time": "2025-07-29T02:33:59.515869Z",
     "start_time": "2025-07-29T02:33:57.442811Z"
    }
   },
   "source": [
    "# initialize the server\n",
    "with DaqDataClient(daq_config, log_level=logging.INFO) as ddc:\n",
    "    valid_daq_hosts = ddc.get_valid_daq_hosts()\n",
    "    if len(valid_daq_hosts) == 0:\n",
    "        print(f\"no valid daq hosts\")\n",
    "    service_summary = ddc.reflect_services([])\n",
    "    print(service_summary)\n",
    "    all_init_success = ddc.init_sim([])\n",
    "    print(f\"\\t{all_init_success=}\")\n"
   ],
   "outputs": [
    {
     "data": {
      "text/plain": [
       "\u001B[2;36m19:33:57\u001B[0m\u001B[2;36m \u001B[0m\u001B[34mINFO    \u001B[0m \u001B[1m[\u001B[0m\u001B[33mtid\u001B[0m=\u001B[1;36m8757206784\u001B[0m\u001B[1m]\u001B[0m \u001B[1m[\u001B[0m\u001B[1;35m_add_file_from_response\u001B[0m\u001B[1m(\u001B[0m\u001B[1m)\u001B[0m\u001B[1m]\u001B[0m Loading  \u001B]8;id=187824;file:///Users/nico/anaconda3/envs/grpc-py39/lib/python3.9/site-packages/grpc_reflection/v1alpha/proto_reflection_descriptor_database.py\u001B\\\u001B[2mproto_reflection_descriptor_database.py\u001B[0m\u001B]8;;\u001B\\\u001B[2m:\u001B[0m\u001B]8;id=219698;file:///Users/nico/anaconda3/envs/grpc-py39/lib/python3.9/site-packages/grpc_reflection/v1alpha/proto_reflection_descriptor_database.py#228\u001B\\\u001B[2m228\u001B[0m\u001B]8;;\u001B\\\n",
       "\u001B[2;36m         \u001B[0m         descriptors from file: daq_data.proto                 \u001B[2m                                           \u001B[0m\n"
      ],
      "text/html": [
       "<pre style=\"white-space:pre;overflow-x:auto;line-height:normal;font-family:Menlo,'DejaVu Sans Mono',consolas,'Courier New',monospace\"><span style=\"color: #7fbfbf; text-decoration-color: #7fbfbf\">19:33:57 </span><span style=\"color: #000080; text-decoration-color: #000080\">INFO    </span> <span style=\"font-weight: bold\">[</span><span style=\"color: #808000; text-decoration-color: #808000\">tid</span>=<span style=\"color: #008080; text-decoration-color: #008080; font-weight: bold\">8757206784</span><span style=\"font-weight: bold\">]</span> <span style=\"font-weight: bold\">[</span><span style=\"color: #800080; text-decoration-color: #800080; font-weight: bold\">_add_file_from_response</span><span style=\"font-weight: bold\">()]</span> Loading  <a href=\"file:///Users/nico/anaconda3/envs/grpc-py39/lib/python3.9/site-packages/grpc_reflection/v1alpha/proto_reflection_descriptor_database.py\" target=\"_blank\"><span style=\"color: #7f7f7f; text-decoration-color: #7f7f7f\">proto_reflection_descriptor_database.py</span></a><span style=\"color: #7f7f7f; text-decoration-color: #7f7f7f\">:</span><a href=\"file:///Users/nico/anaconda3/envs/grpc-py39/lib/python3.9/site-packages/grpc_reflection/v1alpha/proto_reflection_descriptor_database.py#228\" target=\"_blank\"><span style=\"color: #7f7f7f; text-decoration-color: #7f7f7f\">228</span></a>\n",
       "<span style=\"color: #7fbfbf; text-decoration-color: #7fbfbf\">         </span>         descriptors from file: daq_data.proto                 <span style=\"color: #7f7f7f; text-decoration-color: #7f7f7f\">                                           </span>\n",
       "</pre>\n"
      ]
     },
     "metadata": {},
     "output_type": "display_data"
    },
    {
     "data": {
      "text/plain": [
       "\u001B[2;36m        \u001B[0m\u001B[2;36m \u001B[0m\u001B[34mINFO    \u001B[0m \u001B[1m[\u001B[0m\u001B[33mtid\u001B[0m=\u001B[1;36m8757206784\u001B[0m\u001B[1m]\u001B[0m \u001B[1m[\u001B[0m\u001B[1;35m_add_file_from_response\u001B[0m\u001B[1m(\u001B[0m\u001B[1m)\u001B[0m\u001B[1m]\u001B[0m Loading  \u001B]8;id=572496;file:///Users/nico/anaconda3/envs/grpc-py39/lib/python3.9/site-packages/grpc_reflection/v1alpha/proto_reflection_descriptor_database.py\u001B\\\u001B[2mproto_reflection_descriptor_database.py\u001B[0m\u001B]8;;\u001B\\\u001B[2m:\u001B[0m\u001B]8;id=809832;file:///Users/nico/anaconda3/envs/grpc-py39/lib/python3.9/site-packages/grpc_reflection/v1alpha/proto_reflection_descriptor_database.py#228\u001B\\\u001B[2m228\u001B[0m\u001B]8;;\u001B\\\n",
       "\u001B[2;36m         \u001B[0m         descriptors from file: google/protobuf/struct.proto   \u001B[2m                                           \u001B[0m\n"
      ],
      "text/html": [
       "<pre style=\"white-space:pre;overflow-x:auto;line-height:normal;font-family:Menlo,'DejaVu Sans Mono',consolas,'Courier New',monospace\"><span style=\"color: #7fbfbf; text-decoration-color: #7fbfbf\">         </span><span style=\"color: #000080; text-decoration-color: #000080\">INFO    </span> <span style=\"font-weight: bold\">[</span><span style=\"color: #808000; text-decoration-color: #808000\">tid</span>=<span style=\"color: #008080; text-decoration-color: #008080; font-weight: bold\">8757206784</span><span style=\"font-weight: bold\">]</span> <span style=\"font-weight: bold\">[</span><span style=\"color: #800080; text-decoration-color: #800080; font-weight: bold\">_add_file_from_response</span><span style=\"font-weight: bold\">()]</span> Loading  <a href=\"file:///Users/nico/anaconda3/envs/grpc-py39/lib/python3.9/site-packages/grpc_reflection/v1alpha/proto_reflection_descriptor_database.py\" target=\"_blank\"><span style=\"color: #7f7f7f; text-decoration-color: #7f7f7f\">proto_reflection_descriptor_database.py</span></a><span style=\"color: #7f7f7f; text-decoration-color: #7f7f7f\">:</span><a href=\"file:///Users/nico/anaconda3/envs/grpc-py39/lib/python3.9/site-packages/grpc_reflection/v1alpha/proto_reflection_descriptor_database.py#228\" target=\"_blank\"><span style=\"color: #7f7f7f; text-decoration-color: #7f7f7f\">228</span></a>\n",
       "<span style=\"color: #7fbfbf; text-decoration-color: #7fbfbf\">         </span>         descriptors from file: google/protobuf/struct.proto   <span style=\"color: #7f7f7f; text-decoration-color: #7f7f7f\">                                           </span>\n",
       "</pre>\n"
      ]
     },
     "metadata": {},
     "output_type": "display_data"
    },
    {
     "data": {
      "text/plain": [
       "\u001B[2;36m        \u001B[0m\u001B[2;36m \u001B[0m\u001B[34mINFO    \u001B[0m \u001B[1m[\u001B[0m\u001B[33mtid\u001B[0m=\u001B[1;36m8757206784\u001B[0m\u001B[1m]\u001B[0m \u001B[1m[\u001B[0m\u001B[1;35m_add_file_from_response\u001B[0m\u001B[1m(\u001B[0m\u001B[1m)\u001B[0m\u001B[1m]\u001B[0m Loading  \u001B]8;id=429253;file:///Users/nico/anaconda3/envs/grpc-py39/lib/python3.9/site-packages/grpc_reflection/v1alpha/proto_reflection_descriptor_database.py\u001B\\\u001B[2mproto_reflection_descriptor_database.py\u001B[0m\u001B]8;;\u001B\\\u001B[2m:\u001B[0m\u001B]8;id=294488;file:///Users/nico/anaconda3/envs/grpc-py39/lib/python3.9/site-packages/grpc_reflection/v1alpha/proto_reflection_descriptor_database.py#228\u001B\\\u001B[2m228\u001B[0m\u001B]8;;\u001B\\\n",
       "\u001B[2;36m         \u001B[0m         descriptors from file:                                \u001B[2m                                           \u001B[0m\n",
       "\u001B[2;36m         \u001B[0m         google/protobuf/timestamp.proto                       \u001B[2m                                           \u001B[0m\n"
      ],
      "text/html": [
       "<pre style=\"white-space:pre;overflow-x:auto;line-height:normal;font-family:Menlo,'DejaVu Sans Mono',consolas,'Courier New',monospace\"><span style=\"color: #7fbfbf; text-decoration-color: #7fbfbf\">         </span><span style=\"color: #000080; text-decoration-color: #000080\">INFO    </span> <span style=\"font-weight: bold\">[</span><span style=\"color: #808000; text-decoration-color: #808000\">tid</span>=<span style=\"color: #008080; text-decoration-color: #008080; font-weight: bold\">8757206784</span><span style=\"font-weight: bold\">]</span> <span style=\"font-weight: bold\">[</span><span style=\"color: #800080; text-decoration-color: #800080; font-weight: bold\">_add_file_from_response</span><span style=\"font-weight: bold\">()]</span> Loading  <a href=\"file:///Users/nico/anaconda3/envs/grpc-py39/lib/python3.9/site-packages/grpc_reflection/v1alpha/proto_reflection_descriptor_database.py\" target=\"_blank\"><span style=\"color: #7f7f7f; text-decoration-color: #7f7f7f\">proto_reflection_descriptor_database.py</span></a><span style=\"color: #7f7f7f; text-decoration-color: #7f7f7f\">:</span><a href=\"file:///Users/nico/anaconda3/envs/grpc-py39/lib/python3.9/site-packages/grpc_reflection/v1alpha/proto_reflection_descriptor_database.py#228\" target=\"_blank\"><span style=\"color: #7f7f7f; text-decoration-color: #7f7f7f\">228</span></a>\n",
       "<span style=\"color: #7fbfbf; text-decoration-color: #7fbfbf\">         </span>         descriptors from file:                                <span style=\"color: #7f7f7f; text-decoration-color: #7f7f7f\">                                           </span>\n",
       "<span style=\"color: #7fbfbf; text-decoration-color: #7fbfbf\">         </span>         google/protobuf/timestamp.proto                       <span style=\"color: #7f7f7f; text-decoration-color: #7f7f7f\">                                           </span>\n",
       "</pre>\n"
      ]
     },
     "metadata": {},
     "output_type": "display_data"
    },
    {
     "data": {
      "text/plain": [
       "\u001B[2;36m        \u001B[0m\u001B[2;36m \u001B[0m\u001B[34mINFO    \u001B[0m \u001B[1m[\u001B[0m\u001B[33mtid\u001B[0m=\u001B[1;36m8757206784\u001B[0m\u001B[1m]\u001B[0m \u001B[1m[\u001B[0m\u001B[1;35m_add_file_from_response\u001B[0m\u001B[1m(\u001B[0m\u001B[1m)\u001B[0m\u001B[1m]\u001B[0m Loading  \u001B]8;id=968042;file:///Users/nico/anaconda3/envs/grpc-py39/lib/python3.9/site-packages/grpc_reflection/v1alpha/proto_reflection_descriptor_database.py\u001B\\\u001B[2mproto_reflection_descriptor_database.py\u001B[0m\u001B]8;;\u001B\\\u001B[2m:\u001B[0m\u001B]8;id=958614;file:///Users/nico/anaconda3/envs/grpc-py39/lib/python3.9/site-packages/grpc_reflection/v1alpha/proto_reflection_descriptor_database.py#228\u001B\\\u001B[2m228\u001B[0m\u001B]8;;\u001B\\\n",
       "\u001B[2;36m         \u001B[0m         descriptors from file: google/protobuf/empty.proto    \u001B[2m                                           \u001B[0m\n"
      ],
      "text/html": [
       "<pre style=\"white-space:pre;overflow-x:auto;line-height:normal;font-family:Menlo,'DejaVu Sans Mono',consolas,'Courier New',monospace\"><span style=\"color: #7fbfbf; text-decoration-color: #7fbfbf\">         </span><span style=\"color: #000080; text-decoration-color: #000080\">INFO    </span> <span style=\"font-weight: bold\">[</span><span style=\"color: #808000; text-decoration-color: #808000\">tid</span>=<span style=\"color: #008080; text-decoration-color: #008080; font-weight: bold\">8757206784</span><span style=\"font-weight: bold\">]</span> <span style=\"font-weight: bold\">[</span><span style=\"color: #800080; text-decoration-color: #800080; font-weight: bold\">_add_file_from_response</span><span style=\"font-weight: bold\">()]</span> Loading  <a href=\"file:///Users/nico/anaconda3/envs/grpc-py39/lib/python3.9/site-packages/grpc_reflection/v1alpha/proto_reflection_descriptor_database.py\" target=\"_blank\"><span style=\"color: #7f7f7f; text-decoration-color: #7f7f7f\">proto_reflection_descriptor_database.py</span></a><span style=\"color: #7f7f7f; text-decoration-color: #7f7f7f\">:</span><a href=\"file:///Users/nico/anaconda3/envs/grpc-py39/lib/python3.9/site-packages/grpc_reflection/v1alpha/proto_reflection_descriptor_database.py#228\" target=\"_blank\"><span style=\"color: #7f7f7f; text-decoration-color: #7f7f7f\">228</span></a>\n",
       "<span style=\"color: #7fbfbf; text-decoration-color: #7fbfbf\">         </span>         descriptors from file: google/protobuf/empty.proto    <span style=\"color: #7f7f7f; text-decoration-color: #7f7f7f\">                                           </span>\n",
       "</pre>\n"
      ]
     },
     "metadata": {},
     "output_type": "display_data"
    },
    {
     "data": {
      "text/plain": [
       "Reflecting services on localhost:\u001B[1;36m50051\u001B[0m:\n",
       "        found services: \u001B[1m[\u001B[0m\u001B[32m'daqdata.DaqData'\u001B[0m, \u001B[32m'grpc.reflection.v1alpha.ServerReflection'\u001B[0m\u001B[1m]\u001B[0m\n",
       "        found \u001B[33mDaqData\u001B[0m service with name: \u001B[33mdaqdata.DaqData\u001B[0m\n",
       "        found: rpc \u001B[1;35mStreamImages\u001B[0m\u001B[1m(\u001B[0mStreamImagesRequest\u001B[1m)\u001B[0m returns \u001B[1m(\u001B[0m\u001B[35mstream\u001B[0m StreamImagesResponse\u001B[1m)\u001B[0m\n",
       "        found: rpc \u001B[1;35mInitHpIo\u001B[0m\u001B[1m(\u001B[0mInitHpIoRequest\u001B[1m)\u001B[0m returns \u001B[1m(\u001B[0mInitHpIoResponse\u001B[1m)\u001B[0m\n",
       "        found: rpc \u001B[1;35mPing\u001B[0m\u001B[1m(\u001B[0mEmpty\u001B[1m)\u001B[0m returns \u001B[1m(\u001B[0mEmpty\u001B[1m)\u001B[0m\n",
       "\n"
      ],
      "text/html": [
       "<pre style=\"white-space:pre;overflow-x:auto;line-height:normal;font-family:Menlo,'DejaVu Sans Mono',consolas,'Courier New',monospace\">Reflecting services on localhost:<span style=\"color: #008080; text-decoration-color: #008080; font-weight: bold\">50051</span>:\n",
       "        found services: <span style=\"font-weight: bold\">[</span><span style=\"color: #008000; text-decoration-color: #008000\">'daqdata.DaqData'</span>, <span style=\"color: #008000; text-decoration-color: #008000\">'grpc.reflection.v1alpha.ServerReflection'</span><span style=\"font-weight: bold\">]</span>\n",
       "        found <span style=\"color: #808000; text-decoration-color: #808000\">DaqData</span> service with name: <span style=\"color: #808000; text-decoration-color: #808000\">daqdata.DaqData</span>\n",
       "        found: rpc <span style=\"color: #800080; text-decoration-color: #800080; font-weight: bold\">StreamImages</span><span style=\"font-weight: bold\">(</span>StreamImagesRequest<span style=\"font-weight: bold\">)</span> returns <span style=\"font-weight: bold\">(</span><span style=\"color: #800080; text-decoration-color: #800080\">stream</span> StreamImagesResponse<span style=\"font-weight: bold\">)</span>\n",
       "        found: rpc <span style=\"color: #800080; text-decoration-color: #800080; font-weight: bold\">InitHpIo</span><span style=\"font-weight: bold\">(</span>InitHpIoRequest<span style=\"font-weight: bold\">)</span> returns <span style=\"font-weight: bold\">(</span>InitHpIoResponse<span style=\"font-weight: bold\">)</span>\n",
       "        found: rpc <span style=\"color: #800080; text-decoration-color: #800080; font-weight: bold\">Ping</span><span style=\"font-weight: bold\">(</span>Empty<span style=\"font-weight: bold\">)</span> returns <span style=\"font-weight: bold\">(</span>Empty<span style=\"font-weight: bold\">)</span>\n",
       "\n",
       "</pre>\n"
      ]
     },
     "metadata": {},
     "output_type": "display_data"
    },
    {
     "data": {
      "text/plain": [
       "        \u001B[33mall_init_success\u001B[0m=\u001B[3;92mTrue\u001B[0m\n"
      ],
      "text/html": [
       "<pre style=\"white-space:pre;overflow-x:auto;line-height:normal;font-family:Menlo,'DejaVu Sans Mono',consolas,'Courier New',monospace\">        <span style=\"color: #808000; text-decoration-color: #808000\">all_init_success</span>=<span style=\"color: #00ff00; text-decoration-color: #00ff00; font-style: italic\">True</span>\n",
       "</pre>\n"
      ]
     },
     "metadata": {},
     "output_type": "display_data"
    }
   ],
   "execution_count": 9
  },
  {
   "cell_type": "markdown",
   "id": "88f98ed1-6d2e-4920-a20a-17c23bd9e54a",
   "metadata": {},
   "source": [
    "#### Streaming from One DAQ node"
   ]
  },
  {
   "cell_type": "code",
   "id": "950e42c6-0122-4574-877b-4aa019e3a9c1",
   "metadata": {},
   "source": [
    "# Show PanoImagePreviewer: One DAQ node\n",
    "\n",
    "with DaqDataClient(daq_config) as ddc:\n",
    "    \n",
    "    # Instantiate visualization class\n",
    "    previewer = PanoImagePreviewer(\n",
    "        stream_movie_data=True,\n",
    "        stream_pulse_height_data=True,\n",
    "        # module_id_whitelist=[],\n",
    "        jupyter_notebook=True\n",
    "    )\n",
    "\n",
    "    # Get first valid daq node\n",
    "    valid_daq_hosts = ddc.get_valid_daq_hosts()\n",
    "    host = list(valid_daq_hosts)[0] \n",
    "    \n",
    "    # Call the StreamImages RPC on one valid DAQ node\n",
    "    pano_image_stream = ddc.stream_images(\n",
    "        host,\n",
    "        stream_movie_data=True,\n",
    "        stream_pulse_height_data=True,\n",
    "        update_interval_seconds=2.0,\n",
    "        wait_for_ready=True,\n",
    "        parse_pano_images=True,\n",
    "    )\n",
    "\n",
    "    # Update visualization\n",
    "    for pano_image in pano_image_stream:\n",
    "        previewer.update(pano_image)"
   ],
   "execution_count": 10,
   "outputs": [
    {
     "data": {
      "text/plain": [
       "<Figure size 660x300 with 4 Axes>"
      ],
      "image/png": "[encoded data removed]"
     },
     "metadata": {},
     "output_type": "display_data"
    }
   ]
  },
  {
   "cell_type": "markdown",
   "id": "da5de3af-8f3b-49c7-a8d5-6b147c56ead6",
   "metadata": {},
   "source": [
    "#### Streaming from Multiple DAQ Nodes"
   ]
  },
  {
   "cell_type": "code",
   "id": "8fc4bea9-2e5f-4189-9804-45f6ac56691c",
   "metadata": {
    "ExecuteTime": {
     "end_time": "2025-07-29T02:33:13.187363Z",
     "start_time": "2025-07-29T02:33:13.138729Z"
    }
   },
   "source": [
    "# Show PanoImagePreviewer: Multiple DAQ nodes\n",
    "\n",
    "# 1. Connect to all DAQ nodes\n",
    "with DaqDataClient(daq_config) as ddc:\n",
    "    \n",
    "    # 2. Instantiate visualization class\n",
    "    previewer = PanoImagePreviewer(\n",
    "        stream_movie_data=True,\n",
    "        stream_pulse_height_data=True,\n",
    "        module_id_whitelist=[],\n",
    "        jupyter_notebook=True\n",
    "    )\n",
    "    \n",
    "    # 3. Call the StreamImages RPC on all valid DAQ nodes\n",
    "    pano_image_stream = ddc.stream_images(\n",
    "        hosts=[],\n",
    "        stream_movie_data=True,\n",
    "        stream_pulse_height_data=True,\n",
    "        update_interval_seconds=1.0,\n",
    "        wait_for_ready=True,\n",
    "        parse_pano_images=True,\n",
    "    )\n",
    "\n",
    "    # 4. Update visualization for each pano_image\n",
    "    for pano_image in pano_image_stream:\n",
    "        previewer.update(pano_image)"
   ],
   "outputs": [
    {
     "data": {
      "text/plain": [
       "\u001B[2;36m19:33:13\u001B[0m\u001B[2;36m \u001B[0m\u001B[1;31mERROR   \u001B[0m \u001B[1m[\u001B[0m\u001B[33mtid\u001B[0m=\u001B[1;36m8757206784\u001B[0m\u001B[1m]\u001B[0m \u001B[1m[\u001B[0m\u001B[1;35m__exit__\u001B[0m\u001B[1m(\u001B[0m\u001B[1m)\u001B[0m\u001B[1m]\u001B[0m \u001B[33metype\u001B[0m=\u001B[1m<\u001B[0m\u001B[1;95mclass\u001B[0m\u001B[39m \u001B[0m                                         \u001B]8;id=944697;file:///Users/nico/panoseti/panoseti_grpc/daq_data/client.py\u001B\\\u001B[2mclient.py\u001B[0m\u001B]8;;\u001B\\\u001B[2m:\u001B[0m\u001B]8;id=882251;file:///Users/nico/panoseti/panoseti_grpc/daq_data/client.py#136\u001B\\\u001B[2m136\u001B[0m\u001B]8;;\u001B\\\n",
       "\u001B[2;36m         \u001B[0m         \u001B[32m'grpc._channel._MultiThreadedRendezvous'\u001B[0m\u001B[39m>, \u001B[0m\u001B[33mvalue\u001B[0m\u001B[39m=<_MultiThreadedRendezvous of RPC \u001B[0m  \u001B[2m             \u001B[0m\n",
       "\u001B[2;36m         \u001B[0m         \u001B[39mthat terminated with:\u001B[0m                                                               \u001B[2m             \u001B[0m\n",
       "\u001B[2;36m         \u001B[0m         \u001B[39m        \u001B[0m\u001B[39mstatus = StatusCode.FAILED_PRECONDITION\u001B[0m                                     \u001B[2m             \u001B[0m\n",
       "\u001B[2;36m         \u001B[0m         \u001B[39m        \u001B[0m\u001B[39mdetails = \u001B[0m\u001B[32m\"Uninitialized hp_io task. Run InitHpIo with a valid hp_io \u001B[0m       \u001B[2m             \u001B[0m\n",
       "\u001B[2;36m         \u001B[0m         \u001B[32mconfiguration to initialize it.\"\u001B[0m                                                    \u001B[2m             \u001B[0m\n",
       "\u001B[2;36m         \u001B[0m         \u001B[39m        \u001B[0m\u001B[39mdebug_error_string = \u001B[0m\u001B[32m\"UNKNOWN:Error received from peer  \u001B[0m                    \u001B[2m             \u001B[0m\n",
       "\u001B[2;36m         \u001B[0m         \u001B[32m{\u001B[0m\u001B[32mgrpc_message:\"\u001B[0m\u001B[39mUninitialized hp_io task. Run InitHpIo with a valid hp_io \u001B[0m           \u001B[2m             \u001B[0m\n",
       "\u001B[2;36m         \u001B[0m         \u001B[39mconfiguration to initialize it.\u001B[0m\u001B[32m\", grpc_status:9\u001B[0m\u001B[32m}\u001B[0m\u001B[32m\"\u001B[0m                                   \u001B[2m             \u001B[0m\n",
       "\u001B[2;36m         \u001B[0m         \u001B[39m>, \u001B[0m\u001B[33mtraceback\u001B[0m\u001B[39m=<traceback object at \u001B[0m\u001B[1;36m0x1689130c0\u001B[0m\u001B[1m>\u001B[0m                                      \u001B[2m             \u001B[0m\n"
      ],
      "text/html": [
       "<pre style=\"white-space:pre;overflow-x:auto;line-height:normal;font-family:Menlo,'DejaVu Sans Mono',consolas,'Courier New',monospace\"><span style=\"color: #7fbfbf; text-decoration-color: #7fbfbf\">19:33:13 </span><span style=\"color: #800000; text-decoration-color: #800000; font-weight: bold\">ERROR   </span> <span style=\"font-weight: bold\">[</span><span style=\"color: #808000; text-decoration-color: #808000\">tid</span>=<span style=\"color: #008080; text-decoration-color: #008080; font-weight: bold\">8757206784</span><span style=\"font-weight: bold\">]</span> <span style=\"font-weight: bold\">[</span><span style=\"color: #800080; text-decoration-color: #800080; font-weight: bold\">__exit__</span><span style=\"font-weight: bold\">()]</span> <span style=\"color: #808000; text-decoration-color: #808000\">etype</span>=<span style=\"font-weight: bold\">&lt;</span><span style=\"color: #ff00ff; text-decoration-color: #ff00ff; font-weight: bold\">class</span><span style=\"color: #000000; text-decoration-color: #000000\"> </span>                                         <a href=\"file:///Users/nico/panoseti/panoseti_grpc/daq_data/client.py\" target=\"_blank\"><span style=\"color: #7f7f7f; text-decoration-color: #7f7f7f\">client.py</span></a><span style=\"color: #7f7f7f; text-decoration-color: #7f7f7f\">:</span><a href=\"file:///Users/nico/panoseti/panoseti_grpc/daq_data/client.py#136\" target=\"_blank\"><span style=\"color: #7f7f7f; text-decoration-color: #7f7f7f\">136</span></a>\n",
       "<span style=\"color: #7fbfbf; text-decoration-color: #7fbfbf\">         </span>         <span style=\"color: #008000; text-decoration-color: #008000\">'grpc._channel._MultiThreadedRendezvous'</span><span style=\"color: #000000; text-decoration-color: #000000\">&gt;, </span><span style=\"color: #808000; text-decoration-color: #808000\">value</span><span style=\"color: #000000; text-decoration-color: #000000\">=&lt;_MultiThreadedRendezvous of RPC </span>  <span style=\"color: #7f7f7f; text-decoration-color: #7f7f7f\">             </span>\n",
       "<span style=\"color: #7fbfbf; text-decoration-color: #7fbfbf\">         </span>         <span style=\"color: #000000; text-decoration-color: #000000\">that terminated with:</span>                                                               <span style=\"color: #7f7f7f; text-decoration-color: #7f7f7f\">             </span>\n",
       "<span style=\"color: #7fbfbf; text-decoration-color: #7fbfbf\">         </span>         <span style=\"color: #000000; text-decoration-color: #000000\">        status = StatusCode.FAILED_PRECONDITION</span>                                     <span style=\"color: #7f7f7f; text-decoration-color: #7f7f7f\">             </span>\n",
       "<span style=\"color: #7fbfbf; text-decoration-color: #7fbfbf\">         </span>         <span style=\"color: #000000; text-decoration-color: #000000\">        details = </span><span style=\"color: #008000; text-decoration-color: #008000\">\"Uninitialized hp_io task. Run InitHpIo with a valid hp_io </span>       <span style=\"color: #7f7f7f; text-decoration-color: #7f7f7f\">             </span>\n",
       "<span style=\"color: #7fbfbf; text-decoration-color: #7fbfbf\">         </span>         <span style=\"color: #008000; text-decoration-color: #008000\">configuration to initialize it.\"</span>                                                    <span style=\"color: #7f7f7f; text-decoration-color: #7f7f7f\">             </span>\n",
       "<span style=\"color: #7fbfbf; text-decoration-color: #7fbfbf\">         </span>         <span style=\"color: #000000; text-decoration-color: #000000\">        debug_error_string = </span><span style=\"color: #008000; text-decoration-color: #008000\">\"UNKNOWN:Error received from peer  </span>                    <span style=\"color: #7f7f7f; text-decoration-color: #7f7f7f\">             </span>\n",
       "<span style=\"color: #7fbfbf; text-decoration-color: #7fbfbf\">         </span>         <span style=\"color: #008000; text-decoration-color: #008000\">{grpc_message:\"</span><span style=\"color: #000000; text-decoration-color: #000000\">Uninitialized hp_io task. Run InitHpIo with a valid hp_io </span>           <span style=\"color: #7f7f7f; text-decoration-color: #7f7f7f\">             </span>\n",
       "<span style=\"color: #7fbfbf; text-decoration-color: #7fbfbf\">         </span>         <span style=\"color: #000000; text-decoration-color: #000000\">configuration to initialize it.</span><span style=\"color: #008000; text-decoration-color: #008000\">\", grpc_status:9}\"</span>                                   <span style=\"color: #7f7f7f; text-decoration-color: #7f7f7f\">             </span>\n",
       "<span style=\"color: #7fbfbf; text-decoration-color: #7fbfbf\">         </span>         <span style=\"color: #000000; text-decoration-color: #000000\">&gt;, </span><span style=\"color: #808000; text-decoration-color: #808000\">traceback</span><span style=\"color: #000000; text-decoration-color: #000000\">=&lt;traceback object at </span><span style=\"color: #008080; text-decoration-color: #008080; font-weight: bold\">0x1689130c0</span><span style=\"font-weight: bold\">&gt;</span>                                      <span style=\"color: #7f7f7f; text-decoration-color: #7f7f7f\">             </span>\n",
       "</pre>\n"
      ]
     },
     "metadata": {},
     "output_type": "display_data"
    },
    {
     "ename": "_MultiThreadedRendezvous",
     "evalue": "<_MultiThreadedRendezvous of RPC that terminated with:\n\tstatus = StatusCode.FAILED_PRECONDITION\n\tdetails = \"Uninitialized hp_io task. Run InitHpIo with a valid hp_io configuration to initialize it.\"\n\tdebug_error_string = \"UNKNOWN:Error received from peer  {grpc_message:\"Uninitialized hp_io task. Run InitHpIo with a valid hp_io configuration to initialize it.\", grpc_status:9}\"\n>",
     "output_type": "error",
     "traceback": [
      "\u001B[0;31m---------------------------------------------------------------------------\u001B[0m",
      "\u001B[0;31m_MultiThreadedRendezvous\u001B[0m                  Traceback (most recent call last)",
      "Cell \u001B[0;32mIn[5], line 25\u001B[0m\n\u001B[1;32m     15\u001B[0m pano_image_stream \u001B[38;5;241m=\u001B[39m ddc\u001B[38;5;241m.\u001B[39mstream_images(\n\u001B[1;32m     16\u001B[0m     hosts\u001B[38;5;241m=\u001B[39m[],\n\u001B[1;32m     17\u001B[0m     stream_movie_data\u001B[38;5;241m=\u001B[39m\u001B[38;5;28;01mTrue\u001B[39;00m,\n\u001B[0;32m   (...)\u001B[0m\n\u001B[1;32m     21\u001B[0m     parse_pano_images\u001B[38;5;241m=\u001B[39m\u001B[38;5;28;01mTrue\u001B[39;00m,\n\u001B[1;32m     22\u001B[0m )\n\u001B[1;32m     24\u001B[0m \u001B[38;5;66;03m# 4. Update visualization for each pano_image\u001B[39;00m\n\u001B[0;32m---> 25\u001B[0m \u001B[38;5;28;01mfor\u001B[39;00m pano_image \u001B[38;5;129;01min\u001B[39;00m pano_image_stream:\n\u001B[1;32m     26\u001B[0m     previewer\u001B[38;5;241m.\u001B[39mupdate(pano_image)\n",
      "File \u001B[0;32m~/panoseti/panoseti_grpc/daq_data/client.py:295\u001B[0m, in \u001B[0;36mDaqDataClient.stream_images.<locals>.response_generator\u001B[0;34m()\u001B[0m\n\u001B[1;32m    293\u001B[0m \u001B[38;5;28;01mwhile\u001B[39;00m \u001B[38;5;28;01mTrue\u001B[39;00m:\n\u001B[1;32m    294\u001B[0m     \u001B[38;5;28;01mfor\u001B[39;00m stream \u001B[38;5;129;01min\u001B[39;00m streams:\n\u001B[0;32m--> 295\u001B[0m         stream_images_response \u001B[38;5;241m=\u001B[39m \u001B[38;5;28;43mnext\u001B[39;49m\u001B[43m(\u001B[49m\u001B[43mstream\u001B[49m\u001B[43m)\u001B[49m\n\u001B[1;32m    296\u001B[0m         formatted_stream_images_response \u001B[38;5;241m=\u001B[39m format_stream_images_response(stream_images_response)\n\u001B[1;32m    297\u001B[0m         \u001B[38;5;28mself\u001B[39m\u001B[38;5;241m.\u001B[39mlogger\u001B[38;5;241m.\u001B[39mdebug(formatted_stream_images_response)\n",
      "File \u001B[0;32m~/anaconda3/envs/grpc-py39/lib/python3.9/site-packages/grpc/_channel.py:543\u001B[0m, in \u001B[0;36m_Rendezvous.__next__\u001B[0;34m(self)\u001B[0m\n\u001B[1;32m    542\u001B[0m \u001B[38;5;28;01mdef\u001B[39;00m\u001B[38;5;250m \u001B[39m\u001B[38;5;21m__next__\u001B[39m(\u001B[38;5;28mself\u001B[39m):\n\u001B[0;32m--> 543\u001B[0m     \u001B[38;5;28;01mreturn\u001B[39;00m \u001B[38;5;28;43mself\u001B[39;49m\u001B[38;5;241;43m.\u001B[39;49m\u001B[43m_next\u001B[49m\u001B[43m(\u001B[49m\u001B[43m)\u001B[49m\n",
      "File \u001B[0;32m~/anaconda3/envs/grpc-py39/lib/python3.9/site-packages/grpc/_channel.py:969\u001B[0m, in \u001B[0;36m_MultiThreadedRendezvous._next\u001B[0;34m(self)\u001B[0m\n\u001B[1;32m    967\u001B[0m     \u001B[38;5;28;01mraise\u001B[39;00m \u001B[38;5;167;01mStopIteration\u001B[39;00m()\n\u001B[1;32m    968\u001B[0m \u001B[38;5;28;01melif\u001B[39;00m \u001B[38;5;28mself\u001B[39m\u001B[38;5;241m.\u001B[39m_state\u001B[38;5;241m.\u001B[39mcode \u001B[38;5;129;01mis\u001B[39;00m \u001B[38;5;129;01mnot\u001B[39;00m \u001B[38;5;28;01mNone\u001B[39;00m:\n\u001B[0;32m--> 969\u001B[0m     \u001B[38;5;28;01mraise\u001B[39;00m \u001B[38;5;28mself\u001B[39m\n",
      "\u001B[0;31m_MultiThreadedRendezvous\u001B[0m: <_MultiThreadedRendezvous of RPC that terminated with:\n\tstatus = StatusCode.FAILED_PRECONDITION\n\tdetails = \"Uninitialized hp_io task. Run InitHpIo with a valid hp_io configuration to initialize it.\"\n\tdebug_error_string = \"UNKNOWN:Error received from peer  {grpc_message:\"Uninitialized hp_io task. Run InitHpIo with a valid hp_io configuration to initialize it.\", grpc_status:9}\"\n>"
     ]
    }
   ],
   "execution_count": 5
  }
 ],
 "metadata": {
  "kernelspec": {
   "display_name": "Python 3 (ipykernel)",
   "language": "python",
   "name": "python3"
  },
  "language_info": {
   "codemirror_mode": {
    "name": "ipython",
    "version": 3
   },
   "file_extension": ".py",
   "mimetype": "text/x-python",
   "name": "python",
   "nbconvert_exporter": "python",
   "pygments_lexer": "ipython3",
   "version": "3.9.13"
  }
 },
 "nbformat": 4,
 "nbformat_minor": 5
}
