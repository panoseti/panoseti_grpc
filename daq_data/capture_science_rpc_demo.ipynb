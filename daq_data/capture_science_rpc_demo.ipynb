{
 "cells": [
  {
   "cell_type": "code",
   "execution_count": 1,
   "id": "initial_id",
   "metadata": {
    "ExecuteTime": {
     "end_time": "2025-07-03T23:08:01.423321Z",
     "start_time": "2025-07-03T23:08:00.708863Z"
    }
   },
   "outputs": [],
   "source": [
    "from IPython.display import display, clear_output\n",
    "import matplotlib.pyplot as plt\n",
    "import numpy as np\n",
    "import time\n",
    "\n",
    "\n",
    "import grpc\n",
    "import daq_data_pb2\n",
    "import daq_data_pb2_grpc\n",
    "\n",
    "from daq_data_client import (\n",
    "    reflect_services,\n",
    "    unpack_pano_image,\n",
    "    format_capture_science_response,\n",
    "    make_rich_logger\n",
    ")\n",
    "\n",
    "logger = make_rich_logger(__name__)"
   ]
  },
  {
   "cell_type": "code",
   "execution_count": null,
   "id": "39b30bc3133b0b08",
   "metadata": {},
   "outputs": [
    {
     "data": {
      "text/html": [
       "<pre style=\"white-space:pre;overflow-x:auto;line-height:normal;font-family:Menlo,'DejaVu Sans Mono',consolas,'Courier New',monospace\"><span style=\"color: #7fbfbf; text-decoration-color: #7fbfbf\">13:29:38 </span><span style=\"color: #000080; text-decoration-color: #000080\">INFO    </span> <span style=\"font-weight: bold\">[</span><span style=\"color: #808000; text-decoration-color: #808000\">tid</span>=<span style=\"color: #008080; text-decoration-color: #008080; font-weight: bold\">8757206784</span><span style=\"font-weight: bold\">]</span> <span style=\"font-weight: bold\">[&lt;</span><span style=\"color: #ff00ff; text-decoration-color: #ff00ff; font-weight: bold\">module</span><span style=\"font-weight: bold\">&gt;()]</span> CaptureScienceResponse: <span style=\"color: #808000; text-decoration-color: #808000\">name</span>=<span style=\"color: #008000; text-decoration-color: #008000\">'test_movie_data'</span>,    <a href=\"file:///var/folders/5q/9jqcz6pj3053zxqf_d22qb680000gr/T/ipykernel_30905/4243170462.py\" target=\"_blank\"><span style=\"color: #7f7f7f; text-decoration-color: #7f7f7f\">4243170462.py</span></a><span style=\"color: #7f7f7f; text-decoration-color: #7f7f7f\">:</span><a href=\"file:///var/folders/5q/9jqcz6pj3053zxqf_d22qb680000gr/T/ipykernel_30905/4243170462.py#21\" target=\"_blank\"><span style=\"color: #7f7f7f; text-decoration-color: #7f7f7f\">21</span></a>\n",
       "<span style=\"color: #7fbfbf; text-decoration-color: #7fbfbf\">         </span>         <span style=\"color: #808000; text-decoration-color: #808000\">message</span>=<span style=\"color: #008000; text-decoration-color: #008000\">'testing'</span>, <span style=\"color: #808000; text-decoration-color: #808000\">timestamp</span>=<span style=\"color: #008000; text-decoration-color: #008000\">'2025-07-07T20:29:38.631056'</span>, <span style=\"color: #808000; text-decoration-color: #808000\">resp_type</span>=<span style=\"color: #008000; text-decoration-color: #008000\">'DATA'</span>,     <span style=\"color: #7f7f7f; text-decoration-color: #7f7f7f\">                </span>\n",
       "<span style=\"color: #7fbfbf; text-decoration-color: #7fbfbf\">         </span>         <span style=\"color: #808000; text-decoration-color: #808000\">header</span>=<span style=\"font-weight: bold\">{</span><span style=\"color: #008000; text-decoration-color: #008000\">'test1'</span>: <span style=\"color: #008080; text-decoration-color: #008080; font-weight: bold\">1.0</span>, <span style=\"color: #008000; text-decoration-color: #008000\">'test0'</span>: <span style=\"color: #008080; text-decoration-color: #008080; font-weight: bold\">0.0</span><span style=\"font-weight: bold\">}</span>                                              <span style=\"color: #7f7f7f; text-decoration-color: #7f7f7f\">                </span>\n",
       "</pre>\n"
      ],
      "text/plain": [
       "\u001b[2;36m13:29:38\u001b[0m\u001b[2;36m \u001b[0m\u001b[34mINFO    \u001b[0m \u001b[1m[\u001b[0m\u001b[33mtid\u001b[0m=\u001b[1;36m8757206784\u001b[0m\u001b[1m]\u001b[0m \u001b[1m[\u001b[0m\u001b[1m<\u001b[0m\u001b[1;95mmodule\u001b[0m\u001b[1m>\u001b[0m\u001b[1m(\u001b[0m\u001b[1m)\u001b[0m\u001b[1m]\u001b[0m CaptureScienceResponse: \u001b[33mname\u001b[0m=\u001b[32m'test_movie_data'\u001b[0m,    \u001b]8;id=240125;file:///var/folders/5q/9jqcz6pj3053zxqf_d22qb680000gr/T/ipykernel_30905/4243170462.py\u001b\\\u001b[2m4243170462.py\u001b[0m\u001b]8;;\u001b\\\u001b[2m:\u001b[0m\u001b]8;id=574780;file:///var/folders/5q/9jqcz6pj3053zxqf_d22qb680000gr/T/ipykernel_30905/4243170462.py#21\u001b\\\u001b[2m21\u001b[0m\u001b]8;;\u001b\\\n",
       "\u001b[2;36m         \u001b[0m         \u001b[33mmessage\u001b[0m=\u001b[32m'testing'\u001b[0m, \u001b[33mtimestamp\u001b[0m=\u001b[32m'2025-07-07T20:29:38.631056'\u001b[0m, \u001b[33mresp_type\u001b[0m=\u001b[32m'DATA'\u001b[0m,     \u001b[2m                \u001b[0m\n",
       "\u001b[2;36m         \u001b[0m         \u001b[33mheader\u001b[0m=\u001b[1m{\u001b[0m\u001b[32m'test1'\u001b[0m: \u001b[1;36m1.0\u001b[0m, \u001b[32m'test0'\u001b[0m: \u001b[1;36m0.0\u001b[0m\u001b[1m}\u001b[0m                                              \u001b[2m                \u001b[0m\n"
      ]
     },
     "metadata": {},
     "output_type": "display_data"
    }
   ],
   "source": [
    "# host = \"localhost\"\n",
    "host = \"10.0.0.60\"\n",
    "port = 50051\n",
    "\n",
    "connection_target = f\"{host}:{port}\"\n",
    "with grpc.insecure_channel(connection_target) as channel:\n",
    "    reflect_services(channel)\n",
    "    stub = daq_data_pb2_grpc.DaqDataStub(channel)\n",
    "\n",
    "    capture_science_request = daq_data_pb2.CaptureScienceRequest(\n",
    "        stream_movie_data=True,\n",
    "        stream_pulse_height_data=True,\n",
    "    )\n",
    "    try:\n",
    "        capture_science_responses = stub.CaptureScience(capture_science_request)\n",
    "        for capture_science_response in capture_science_responses:\n",
    "            header, img = unpack_pano_image(capture_science_response.pano_image)\n",
    "\n",
    "            plt.imshow(img)\n",
    "            clear_output(wait=False)\n",
    "            logger.info(format_capture_science_response(capture_science_response))\n",
    "            display(plt.gcf())\n",
    "    except KeyboardInterrupt:\n",
    "        logger.info(f\"'^C' received, closing connection to DaqData server at {repr(connection_target)}\")\n",
    "    except grpc.RpcError as rpc_error:\n",
    "        logger.error(f\"{type(rpc_error)}\\n{repr(rpc_error)}\")\n",
    "    finally:\n",
    "        capture_science_responses.cancel()\n",
    "        plt.close()\n"
   ]
  },
  {
   "cell_type": "code",
   "execution_count": null,
   "id": "8fc4bea9-2e5f-4189-9804-45f6ac56691c",
   "metadata": {},
   "outputs": [],
   "source": []
  }
 ],
 "metadata": {
  "kernelspec": {
   "display_name": "Python 3 (ipykernel)",
   "language": "python",
   "name": "python3"
  },
  "language_info": {
   "codemirror_mode": {
    "name": "ipython",
    "version": 3
   },
   "file_extension": ".py",
   "mimetype": "text/x-python",
   "name": "python",
   "nbconvert_exporter": "python",
   "pygments_lexer": "ipython3",
   "version": "3.12.3"
  }
 },
 "nbformat": 4,
 "nbformat_minor": 5
}
