{
 "cells": [
  {
   "cell_type": "code",
   "id": "3ba1747f-e29e-428a-801e-3a9158e8c9d8",
   "metadata": {
    "ExecuteTime": {
     "end_time": "2025-06-03T22:12:39.778883Z",
     "start_time": "2025-06-03T22:12:39.627477Z"
    }
   },
   "source": [
    "import redis\n",
    "import time\n",
    "\n",
    "host = '172.17.0.1' # rpi \n",
    "port = 6379 # default redis port"
   ],
   "outputs": [],
   "execution_count": 1
  },
  {
   "cell_type": "code",
   "execution_count": 11,
   "id": "95823f58-d613-4c8e-aa5d-b752bb4a2c53",
   "metadata": {},
   "outputs": [
    {
     "data": {
      "text/plain": [
       "\u001B[0;31mInit signature:\u001B[0m\n",
       "\u001B[0mredis\u001B[0m\u001B[0;34m.\u001B[0m\u001B[0mRedis\u001B[0m\u001B[0;34m(\u001B[0m\u001B[0;34m\u001B[0m\n",
       "\u001B[0;34m\u001B[0m    \u001B[0mhost\u001B[0m\u001B[0;34m=\u001B[0m\u001B[0;34m'localhost'\u001B[0m\u001B[0;34m,\u001B[0m\u001B[0;34m\u001B[0m\n",
       "\u001B[0;34m\u001B[0m    \u001B[0mport\u001B[0m\u001B[0;34m=\u001B[0m\u001B[0;36m6379\u001B[0m\u001B[0;34m,\u001B[0m\u001B[0;34m\u001B[0m\n",
       "\u001B[0;34m\u001B[0m    \u001B[0mdb\u001B[0m\u001B[0;34m=\u001B[0m\u001B[0;36m0\u001B[0m\u001B[0;34m,\u001B[0m\u001B[0;34m\u001B[0m\n",
       "\u001B[0;34m\u001B[0m    \u001B[0mpassword\u001B[0m\u001B[0;34m=\u001B[0m\u001B[0;32mNone\u001B[0m\u001B[0;34m,\u001B[0m\u001B[0;34m\u001B[0m\n",
       "\u001B[0;34m\u001B[0m    \u001B[0msocket_timeout\u001B[0m\u001B[0;34m=\u001B[0m\u001B[0;32mNone\u001B[0m\u001B[0;34m,\u001B[0m\u001B[0;34m\u001B[0m\n",
       "\u001B[0;34m\u001B[0m    \u001B[0msocket_connect_timeout\u001B[0m\u001B[0;34m=\u001B[0m\u001B[0;32mNone\u001B[0m\u001B[0;34m,\u001B[0m\u001B[0;34m\u001B[0m\n",
       "\u001B[0;34m\u001B[0m    \u001B[0msocket_keepalive\u001B[0m\u001B[0;34m=\u001B[0m\u001B[0;32mNone\u001B[0m\u001B[0;34m,\u001B[0m\u001B[0;34m\u001B[0m\n",
       "\u001B[0;34m\u001B[0m    \u001B[0msocket_keepalive_options\u001B[0m\u001B[0;34m=\u001B[0m\u001B[0;32mNone\u001B[0m\u001B[0;34m,\u001B[0m\u001B[0;34m\u001B[0m\n",
       "\u001B[0;34m\u001B[0m    \u001B[0mconnection_pool\u001B[0m\u001B[0;34m=\u001B[0m\u001B[0;32mNone\u001B[0m\u001B[0;34m,\u001B[0m\u001B[0;34m\u001B[0m\n",
       "\u001B[0;34m\u001B[0m    \u001B[0munix_socket_path\u001B[0m\u001B[0;34m=\u001B[0m\u001B[0;32mNone\u001B[0m\u001B[0;34m,\u001B[0m\u001B[0;34m\u001B[0m\n",
       "\u001B[0;34m\u001B[0m    \u001B[0mencoding\u001B[0m\u001B[0;34m=\u001B[0m\u001B[0;34m'utf-8'\u001B[0m\u001B[0;34m,\u001B[0m\u001B[0;34m\u001B[0m\n",
       "\u001B[0;34m\u001B[0m    \u001B[0mencoding_errors\u001B[0m\u001B[0;34m=\u001B[0m\u001B[0;34m'strict'\u001B[0m\u001B[0;34m,\u001B[0m\u001B[0;34m\u001B[0m\n",
       "\u001B[0;34m\u001B[0m    \u001B[0mcharset\u001B[0m\u001B[0;34m=\u001B[0m\u001B[0;32mNone\u001B[0m\u001B[0;34m,\u001B[0m\u001B[0;34m\u001B[0m\n",
       "\u001B[0;34m\u001B[0m    \u001B[0merrors\u001B[0m\u001B[0;34m=\u001B[0m\u001B[0;32mNone\u001B[0m\u001B[0;34m,\u001B[0m\u001B[0;34m\u001B[0m\n",
       "\u001B[0;34m\u001B[0m    \u001B[0mdecode_responses\u001B[0m\u001B[0;34m=\u001B[0m\u001B[0;32mFalse\u001B[0m\u001B[0;34m,\u001B[0m\u001B[0;34m\u001B[0m\n",
       "\u001B[0;34m\u001B[0m    \u001B[0mretry_on_timeout\u001B[0m\u001B[0;34m=\u001B[0m\u001B[0;32mFalse\u001B[0m\u001B[0;34m,\u001B[0m\u001B[0;34m\u001B[0m\n",
       "\u001B[0;34m\u001B[0m    \u001B[0mssl\u001B[0m\u001B[0;34m=\u001B[0m\u001B[0;32mFalse\u001B[0m\u001B[0;34m,\u001B[0m\u001B[0;34m\u001B[0m\n",
       "\u001B[0;34m\u001B[0m    \u001B[0mssl_keyfile\u001B[0m\u001B[0;34m=\u001B[0m\u001B[0;32mNone\u001B[0m\u001B[0;34m,\u001B[0m\u001B[0;34m\u001B[0m\n",
       "\u001B[0;34m\u001B[0m    \u001B[0mssl_certfile\u001B[0m\u001B[0;34m=\u001B[0m\u001B[0;32mNone\u001B[0m\u001B[0;34m,\u001B[0m\u001B[0;34m\u001B[0m\n",
       "\u001B[0;34m\u001B[0m    \u001B[0mssl_cert_reqs\u001B[0m\u001B[0;34m=\u001B[0m\u001B[0;34m'required'\u001B[0m\u001B[0;34m,\u001B[0m\u001B[0;34m\u001B[0m\n",
       "\u001B[0;34m\u001B[0m    \u001B[0mssl_ca_certs\u001B[0m\u001B[0;34m=\u001B[0m\u001B[0;32mNone\u001B[0m\u001B[0;34m,\u001B[0m\u001B[0;34m\u001B[0m\n",
       "\u001B[0;34m\u001B[0m    \u001B[0mssl_check_hostname\u001B[0m\u001B[0;34m=\u001B[0m\u001B[0;32mFalse\u001B[0m\u001B[0;34m,\u001B[0m\u001B[0;34m\u001B[0m\n",
       "\u001B[0;34m\u001B[0m    \u001B[0mmax_connections\u001B[0m\u001B[0;34m=\u001B[0m\u001B[0;32mNone\u001B[0m\u001B[0;34m,\u001B[0m\u001B[0;34m\u001B[0m\n",
       "\u001B[0;34m\u001B[0m    \u001B[0msingle_connection_client\u001B[0m\u001B[0;34m=\u001B[0m\u001B[0;32mFalse\u001B[0m\u001B[0;34m,\u001B[0m\u001B[0;34m\u001B[0m\n",
       "\u001B[0;34m\u001B[0m    \u001B[0mhealth_check_interval\u001B[0m\u001B[0;34m=\u001B[0m\u001B[0;36m0\u001B[0m\u001B[0;34m,\u001B[0m\u001B[0;34m\u001B[0m\n",
       "\u001B[0;34m\u001B[0m    \u001B[0mclient_name\u001B[0m\u001B[0;34m=\u001B[0m\u001B[0;32mNone\u001B[0m\u001B[0;34m,\u001B[0m\u001B[0;34m\u001B[0m\n",
       "\u001B[0;34m\u001B[0m    \u001B[0musername\u001B[0m\u001B[0;34m=\u001B[0m\u001B[0;32mNone\u001B[0m\u001B[0;34m,\u001B[0m\u001B[0;34m\u001B[0m\n",
       "\u001B[0;34m\u001B[0m\u001B[0;34m)\u001B[0m\u001B[0;34m\u001B[0m\u001B[0;34m\u001B[0m\u001B[0m\n",
       "\u001B[0;31mDocstring:\u001B[0m     \n",
       "Implementation of the Redis protocol.\n",
       "\n",
       "This abstract class provides a Python interface to all Redis commands\n",
       "and an implementation of the Redis protocol.\n",
       "\n",
       "Connection and Pipeline derive from this, implementing how\n",
       "the commands are sent and received to the Redis server\n",
       "\u001B[0;31mFile:\u001B[0m           ~/anaconda3/envs/gnss-pdft/lib/python3.12/site-packages/redis/client.py\n",
       "\u001B[0;31mType:\u001B[0m           type\n",
       "\u001B[0;31mSubclasses:\u001B[0m     Pipeline"
      ]
     },
     "metadata": {},
     "output_type": "display_data"
    }
   ],
   "source": [
    "redis.Redis?"
   ]
  },
  {
   "cell_type": "code",
   "execution_count": 16,
   "id": "3411c69b-d63d-4d70-9c9e-a326b0f6fd95",
   "metadata": {},
   "outputs": [
    {
     "data": {
      "text/plain": [
       "True"
      ]
     },
     "execution_count": 16,
     "metadata": {},
     "output_type": "execute_result"
    }
   ],
   "source": [
    "r = redis.Redis(host='localhost', port=port, decode_responses=True)\n",
    "r.ping()"
   ]
  },
  {
   "cell_type": "code",
   "execution_count": 20,
   "id": "3ca82b21-aed1-4c85-8f2b-76b830ff1347",
   "metadata": {},
   "outputs": [],
   "source": [
    "# copied from control/redis_utils.py: https://github.com/panoseti/panoseti/blob/master/control/redis_utils.py\n",
    "def store_in_redis(r: redis.Redis, rkey: [bytes, str], rkey_fields: dict):\n",
    "    \"\"\"\n",
    "    Writes every field from rkey_fields into the hashset stored at rkey\n",
    "    in the Redis database represented by the object r.\n",
    "    \"\"\"\n",
    "    for field, value in rkey_fields.items():\n",
    "        r.hset(rkey, field, value)\n",
    "\n",
    "\n",
    "def get_updated_redis_keys(r:redis.Redis, key_timestamps:dict):\n",
    "    avaliable_keys = [key.decode(\"utf-8\") for key in r.keys('*')]\n",
    "    list_of_updates = []\n",
    "    for key in avaliable_keys:\n",
    "        try:\n",
    "            compUTC = r.hget(key, 'Computer_UTC')\n",
    "            if compUTC == None:\n",
    "                continue\n",
    "            if key in key_timestamps and key_timestamps[key] == compUTC.decode(\"utf-8\"):\n",
    "                continue\n",
    "            list_of_updates.append(key)\n",
    "        except redis.ResponseError:\n",
    "            pass\n",
    "    return list_of_updates"
   ]
  },
  {
   "cell_type": "code",
   "execution_count": 24,
   "id": "f38520f4-59c1-4662-a82a-c8697ef83935",
   "metadata": {},
   "outputs": [
    {
     "data": {
      "text/plain": [
       "{'Computer_UTC': 1748913053.339201}"
      ]
     },
     "execution_count": 24,
     "metadata": {},
     "output_type": "execute_result"
    }
   ],
   "source": [
    "ublox_rkey = \n",
    "\n",
    "ublox_data = {\n",
    "    'Computer_UTC': time.time(),\n",
    "    \n",
    "}\n",
    "\n",
    "ublox_data"
   ]
  }
 ],
 "metadata": {
  "kernelspec": {
   "display_name": "Python 3 (ipykernel)",
   "language": "python",
   "name": "python3"
  },
  "language_info": {
   "codemirror_mode": {
    "name": "ipython",
    "version": 3
   },
   "file_extension": ".py",
   "mimetype": "text/x-python",
   "name": "python",
   "nbconvert_exporter": "python",
   "pygments_lexer": "ipython3",
   "version": "3.12.3"
  }
 },
 "nbformat": 4,
 "nbformat_minor": 5
}
